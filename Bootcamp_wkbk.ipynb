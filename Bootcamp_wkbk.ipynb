{
 "cells": [
  {
   "cell_type": "code",
   "execution_count": 9,
   "metadata": {},
   "outputs": [],
   "source": [
    "import pandas as pd\n",
    "import numpy as np\n",
    "import matplotlib.pyplot as plt\n",
    "import statistics\n",
    "import math\n",
    "import random\n",
    "import seaborn as sns\n",
    "\n",
    "from scipy.stats import ttest_ind\n",
    "%matplotlib inline"
   ]
  },
  {
   "cell_type": "markdown",
   "metadata": {},
   "source": [
    "### Unit 1: Data and analysis - data science for investigations"
   ]
  },
  {
   "cell_type": "markdown",
   "metadata": {},
   "source": [
    "#### Lesson 1: What is data science?"
   ]
  },
  {
   "cell_type": "markdown",
   "metadata": {},
   "source": [
    "##### Drill: What can data science do?"
   ]
  },
  {
   "cell_type": "markdown",
   "metadata": {},
   "source": [
    "1.\n",
    "\n",
    "I would look at what currents adds were converting the best, and tell them to drop the ones that were not doing as well. I would use the purchase activity and current add conversions to see what adds may be redudant as the product is selling without the add. As well as what products aren't selling and if the add campaign needs changing.\n",
    "\n",
    "I would do this by comparing the information on all 3 products and thus trying to best understand what is the driving factor by the sales of lack of sales of each."
   ]
  },
  {
   "cell_type": "markdown",
   "metadata": {},
   "source": [
    "2.\n",
    "\n",
    "I would look at the order of the onboarding funnel, let plan choice come before email/password setup. I would the do testing to see if there is any chane in the rates with the new order. I would also look to see how payment schedules compare to competitors."
   ]
  },
  {
   "cell_type": "markdown",
   "metadata": {},
   "source": [
    "3.\n",
    "\n",
    "I would first filter by what is available, as no one cares about the prices of hotel rooms they can't rent. Then I would sort by the price, thus allowing a price analysis for the customer of only the available hotels in the city"
   ]
  },
  {
   "cell_type": "markdown",
   "metadata": {},
   "source": [
    "4.\n",
    "\n",
    "I would look at the variance of the log in periods over time to see if there is a drop off in user time the longer they have the app. I would compare, older users, to newer users behaviors to see differences."
   ]
  },
  {
   "cell_type": "markdown",
   "metadata": {},
   "source": [
    "#### Lesson 2: SQL - data access methods"
   ]
  },
  {
   "cell_type": "markdown",
   "metadata": {},
   "source": [
    "##### Drill: Select, from, where"
   ]
  },
  {
   "cell_type": "code",
   "execution_count": 1,
   "metadata": {},
   "outputs": [],
   "source": [
    "#1. The ID's and durations for all trips of duration greater than 500,\n",
    "#    ordered by duration.\n",
    "\n",
    "#SELECT\n",
    "#     trip_id,\n",
    "#     bike_id,\n",
    "#     duration\n",
    "# FROM \n",
    "#     trips\n",
    "# WHERE \n",
    "#     duration>500\n",
    "# ORDER BY duration DESC"
   ]
  },
  {
   "cell_type": "code",
   "execution_count": 3,
   "metadata": {},
   "outputs": [],
   "source": [
    "#2. Every column of the stations table for station id 84.\n",
    "\n",
    "#     SELECT\n",
    "#         *\n",
    "#     FROM \n",
    "#         stations\n",
    "#     WHERE \n",
    "#         station_id=84"
   ]
  },
  {
   "cell_type": "code",
   "execution_count": null,
   "metadata": {},
   "outputs": [],
   "source": [
    "#3. The min temperatures of all the occurrences of rain in zip 94301.\n",
    "\n",
    "# SELECT\n",
    "#   MinTemperatureF\n",
    "# FROM \n",
    "#   weather\n",
    "# WHERE \n",
    "#   ZIP=94301 AND\n",
    "#   PrecipitationIn >= 0"
   ]
  },
  {
   "cell_type": "markdown",
   "metadata": {},
   "source": [
    "##### Drill: Aggregates and groups"
   ]
  },
  {
   "cell_type": "code",
   "execution_count": 2,
   "metadata": {},
   "outputs": [],
   "source": [
    "#1. What was the hottest day in our data set? Where was that? 134 degrees F, 94063\n",
    "\n",
    "# SELECT\n",
    "#     MAX(MaxTemperatureF),\n",
    "#     ZIP\n",
    "# FROM\n",
    "#     weather"
   ]
  },
  {
   "cell_type": "code",
   "execution_count": 3,
   "metadata": {},
   "outputs": [],
   "source": [
    "#2. How many trips started at each station?\n",
    "\n",
    "# SELECT\n",
    "#     count(start_station) starts,\n",
    "#    start_station name_of_station\n",
    "# FROM\n",
    "#     trips\n",
    "# GROUP BY\n",
    "#   start_station"
   ]
  },
  {
   "cell_type": "code",
   "execution_count": 4,
   "metadata": {},
   "outputs": [],
   "source": [
    "#3 What's the shortest trip that happened?\n",
    "\n",
    "# 60, Mezes\n",
    "\n",
    "# SELECT\n",
    "#     min(duration) shortest,\n",
    "#     start_station name_of_station\n",
    "# FROM\n",
    "#     trips"
   ]
  },
  {
   "cell_type": "code",
   "execution_count": null,
   "metadata": {},
   "outputs": [],
   "source": [
    "#4 What is the average trip duration, by end station?\n",
    "\n",
    "# SELECT\n",
    "#     avg(duration) avg_duration,\n",
    "#     end_station name_of_station\n",
    "# FROM\n",
    "#     trips\n",
    "# GROUP BY\n",
    "#     end_station"
   ]
  },
  {
   "cell_type": "markdown",
   "metadata": {},
   "source": [
    "##### Drill: Joins and CTEs"
   ]
  },
  {
   "cell_type": "code",
   "execution_count": null,
   "metadata": {},
   "outputs": [],
   "source": [
    "#1 What are the three longest trips on rainy days?\n",
    "\n",
    "# with rain_days as\n",
    "#     (SELECT \n",
    "#         date \n",
    "#         FROM weather\n",
    "#         WHERE events = 'Rain'\n",
    "#         GROUP BY 1\n",
    "#     )\n",
    "\n",
    "# SELECT \n",
    "#     trip_id,\n",
    "#     duration,\n",
    "#     DATE(start_date) trip_date\n",
    "#     FROM trips\n",
    "#     JOIN rain_days\n",
    "#     on rain_days.Date = trip_date\n",
    "# ORDER BY duration desc\n",
    "# LIMIT 3"
   ]
  },
  {
   "cell_type": "code",
   "execution_count": null,
   "metadata": {},
   "outputs": [],
   "source": [
    "# 2 Which station is full most often?\n",
    "\n",
    "# SELECT \n",
    "# status.station_id,\n",
    "# stations.name,\n",
    "# COUNT(CASE WHEN docks_available=0 then 1 END) empty_count\n",
    "# FROM status\n",
    "# JOIN stations\n",
    "# on stations.station_id = status.station_id\n",
    "# GROUP BY 1\n",
    "# ORDER BY empty_count DESC"
   ]
  },
  {
   "cell_type": "code",
   "execution_count": null,
   "metadata": {},
   "outputs": [],
   "source": [
    "#3 Return a list of stations with a count of number of trips starting at that station but ordered by dock count.\n",
    "\n",
    "# SELECT \n",
    "# start_station,\n",
    "# dockcount,\n",
    "# COUNT(*)\n",
    "# FROM trips\n",
    "# JOIN stations\n",
    "# on stations.name = trips.start_station\n",
    "# GROUP BY 1, 2\n",
    "# ORDER BY 1 DESC"
   ]
  },
  {
   "cell_type": "code",
   "execution_count": null,
   "metadata": {},
   "outputs": [],
   "source": [
    "#4 (Challenge) What's the length of the longest trip for each day it rains anywhere?\n",
    "\n",
    "# with rain_days as\n",
    "#     (SELECT \n",
    "#     date\n",
    "#     FROM weather\n",
    "#     WHERE events = 'Rain'\n",
    "#     GROUP BY 1\n",
    "#     ),\n",
    "\n",
    "# rainy_rides as \n",
    "#     (SELECT \n",
    "#     trip_id\n",
    "#     duration,\n",
    "#     DATE(start_date) ride_date\n",
    "#     FROM trips\n",
    "#     JOIN rain_days\n",
    "#     on rain_days.date = ride_date\n",
    "#     ORDER BY duration DESC \n",
    "#     )\n",
    "\n",
    "# SELECT \n",
    "#     ride_date,\n",
    "#     MAX(duration)\n",
    "#     FROM rainy_rides\n",
    "#     GROUP BY ride_date"
   ]
  },
  {
   "cell_type": "markdown",
   "metadata": {},
   "source": [
    "##### Challenge: Airbnb cities - Boston - July '18"
   ]
  },
  {
   "cell_type": "markdown",
   "metadata": {},
   "source": [
    "What's the most expensive listing? What else can you tell me about the listing?"
   ]
  },
  {
   "cell_type": "code",
   "execution_count": null,
   "metadata": {},
   "outputs": [],
   "source": [
    "# SELECT\n",
    "#     MAX(price),\n",
    "#     *\n",
    "# FROM \n",
    "#     listings"
   ]
  },
  {
   "cell_type": "markdown",
   "metadata": {},
   "source": [
    "        price = 995\n",
    "\n",
    "        id = 20650593\n",
    "\n",
    "        name = The Historic House in the North End/Waterfront\n",
    "\n",
    "        host_id = 27172259\n",
    "\n",
    "        host_name = Travis\n",
    "\n",
    "        neighbourhood = North End\n",
    "\n",
    "        latitude = 42.36813076761684\n",
    "\n",
    "        longitude = -71.05393794734469\n",
    "\n",
    "        room_type = Entire home/apt\n",
    "\n",
    "        minimum_nights = 1\n",
    "\n",
    "        number_of_reviews = 50\n",
    "\n",
    "        last_review = 2018-07-15\n",
    "\n",
    "        reviews_per_month = 4.72\n",
    "\n",
    "        calculated_host_listings_count = 1\n",
    "\n",
    "        availability_365 = 311"
   ]
  },
  {
   "cell_type": "markdown",
   "metadata": {},
   "source": [
    "What neighborhoods seem to be the most popular?"
   ]
  },
  {
   "cell_type": "code",
   "execution_count": 1,
   "metadata": {},
   "outputs": [],
   "source": [
    "# SELECT\n",
    "#     COUNT(neighbourhood),\n",
    "#     neighbourhood\n",
    "# FROM \n",
    "#     listings\n",
    "# GROUP BY \n",
    "#     neighbourhood"
   ]
  },
  {
   "cell_type": "markdown",
   "metadata": {},
   "source": [
    "##### ANSWER: Dorchester"
   ]
  },
  {
   "cell_type": "markdown",
   "metadata": {},
   "source": [
    "What time of year is the cheapest time to go to your city? What about the busiest?"
   ]
  },
  {
   "cell_type": "markdown",
   "metadata": {},
   "source": [
    "#### SQL with pgAdmin 4\n",
    "\n",
    "SQL Basics"
   ]
  },
  {
   "cell_type": "markdown",
   "metadata": {},
   "source": [
    "#### Drills"
   ]
  },
  {
   "cell_type": "code",
   "execution_count": null,
   "metadata": {},
   "outputs": [],
   "source": [
    "#1 The IDs and durations for all trips of duration greater than 500, ordered by duration.\n",
    "\n",
    "# select\n",
    "# \ttrip_id,\n",
    "# \tduration\n",
    "# from\n",
    "# \ttrips\n",
    "# where\n",
    "# \tduration>500\n",
    "# order by duration desc"
   ]
  },
  {
   "cell_type": "code",
   "execution_count": null,
   "metadata": {},
   "outputs": [],
   "source": [
    "#2 Every column of the stations table for station id 84.\n",
    "\n",
    "# select\n",
    "# \t*\n",
    "# from\n",
    "# \tstations\n",
    "# where\n",
    "# \tstation_id = 84"
   ]
  },
  {
   "cell_type": "code",
   "execution_count": null,
   "metadata": {},
   "outputs": [],
   "source": [
    "#3 The min temperatures of all the occurrences of rain in zip 94301.\n",
    "\n",
    "# select\n",
    "# \tmintemperaturef\n",
    "# from\n",
    "# \tweather\n",
    "# where\n",
    "# \tprecipitationin > 0\n",
    "# \tAND zip = 94301"
   ]
  },
  {
   "cell_type": "markdown",
   "metadata": {},
   "source": [
    "#### Lesson 3 Intermediate Visualization"
   ]
  },
  {
   "cell_type": "markdown",
   "metadata": {},
   "source": [
    "Drills\n",
    "\n",
    "Find a dataset you'd like to explore. This can be something you're familiar with or something new. Create a Jupyter notebook and then:"
   ]
  },
  {
   "cell_type": "markdown",
   "metadata": {},
   "source": [
    "Choose two continuous variables, and plot them three different ways."
   ]
  },
  {
   "cell_type": "markdown",
   "metadata": {},
   "source": [
    "Choose one continuous variable and one categorical variable, and plot them six different ways."
   ]
  },
  {
   "cell_type": "code",
   "execution_count": 4,
   "metadata": {},
   "outputs": [],
   "source": [
    "# data taken from Kaggle Superhero Dataset \n",
    "superhero_stats = pd.read_csv('Data/charcters_stats.csv')"
   ]
  },
  {
   "cell_type": "code",
   "execution_count": 6,
   "metadata": {},
   "outputs": [
    {
     "name": "stdout",
     "output_type": "stream",
     "text": [
      "<class 'pandas.core.frame.DataFrame'>\n",
      "RangeIndex: 611 entries, 0 to 610\n",
      "Data columns (total 9 columns):\n",
      "Name            611 non-null object\n",
      "Alignment       608 non-null object\n",
      "Intelligence    611 non-null int64\n",
      "Strength        611 non-null int64\n",
      "Speed           611 non-null int64\n",
      "Durability      611 non-null int64\n",
      "Power           611 non-null int64\n",
      "Combat          611 non-null int64\n",
      "Total           611 non-null int64\n",
      "dtypes: int64(7), object(2)\n",
      "memory usage: 43.0+ KB\n"
     ]
    }
   ],
   "source": [
    "superhero_stats.info()"
   ]
  },
  {
   "cell_type": "code",
   "execution_count": 8,
   "metadata": {},
   "outputs": [
    {
     "data": {
      "text/plain": [
       "good       432\n",
       "bad        165\n",
       "neutral     11\n",
       "Name: Alignment, dtype: int64"
      ]
     },
     "execution_count": 8,
     "metadata": {},
     "output_type": "execute_result"
    }
   ],
   "source": [
    "superhero_stats.Alignment.value_counts()"
   ]
  },
  {
   "cell_type": "markdown",
   "metadata": {},
   "source": [
    "Choose one variable and plot that variable four different ways."
   ]
  },
  {
   "cell_type": "code",
   "execution_count": null,
   "metadata": {},
   "outputs": [],
   "source": []
  }
 ],
 "metadata": {
  "kernelspec": {
   "display_name": "Python 3",
   "language": "python",
   "name": "python3"
  },
  "language_info": {
   "codemirror_mode": {
    "name": "ipython",
    "version": 3
   },
   "file_extension": ".py",
   "mimetype": "text/x-python",
   "name": "python",
   "nbconvert_exporter": "python",
   "pygments_lexer": "ipython3",
   "version": "3.6.3"
  }
 },
 "nbformat": 4,
 "nbformat_minor": 2
}
