{
 "cells": [
  {
   "cell_type": "markdown",
   "metadata": {},
   "source": [
    "### Unit 1: Data and analysis - data science for investigations"
   ]
  },
  {
   "cell_type": "markdown",
   "metadata": {
    "scrolled": true
   },
   "source": [
    "1.\n",
    "\n",
    "I would look at what currents adds were converting the best, and tell them to drop the ones that were not doing as well. I would use the purchase activity and current add conversions to see what adds may be redudant as the product is selling without the add. As well as what products aren't selling and if the add campaign needs changing. I would look at how things were viewed if multiple items were looked at. I would look at the order in which things were viewed. I would see if price changes impact the orders.\n",
    "\n",
    "I would do this by comparing the information on all 3 products and thus trying to best understand what is the driving factor by the sales of lack of sales of each."
   ]
  },
  {
   "cell_type": "markdown",
   "metadata": {
    "scrolled": true
   },
   "source": [
    "2.\n",
    "\n",
    "I would look at the order of the onboarding funnel, let plan choice come before email/password setup. I would the do testing to see if there is any chane in the rates with the new order. I would also look to see how payment schedules compare to competitors. I would look at what stage users drop out of the onboarding funnel."
   ]
  },
  {
   "cell_type": "markdown",
   "metadata": {},
   "source": [
    "3.\n",
    "\n",
    "I would first filter by what is available, as no one cares about the prices of hotel rooms they can't rent. Then I would sort by the price, thus allowing a price analysis for the customer of only the available hotels in the city. I would also do it by proximity to the request allowing a distance from the user to be established."
   ]
  },
  {
   "cell_type": "markdown",
   "metadata": {},
   "source": [
    "4.\n",
    "\n",
    "I would look at the variance of the log in periods over time to see if there is a drop off in user time the longer they have the app. I would compare, older users, to newer users behaviors to see differences. I would look for similarities between repeat users."
   ]
  }
 ],
 "metadata": {
  "kernelspec": {
   "display_name": "Python 3",
   "language": "python",
   "name": "python3"
  },
  "language_info": {
   "codemirror_mode": {
    "name": "ipython",
    "version": 3
   },
   "file_extension": ".py",
   "mimetype": "text/x-python",
   "name": "python",
   "nbconvert_exporter": "python",
   "pygments_lexer": "ipython3",
   "version": "3.6.3"
  }
 },
 "nbformat": 4,
 "nbformat_minor": 2
}
