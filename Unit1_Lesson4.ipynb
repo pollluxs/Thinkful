{
 "cells": [
  {
   "cell_type": "markdown",
   "metadata": {},
   "source": [
    "#### Drill: Getting Testy. . ."
   ]
  },
  {
   "cell_type": "markdown",
   "metadata": {},
   "source": [
    "#### 1) Does a new supplement help people sleep better?\n",
    "    \n",
    "There should be two groups one given the drug and one that is not. \n",
    "    \n",
    "Both groups should have similar representations of the population(age, race, gender, etc.).\n",
    "    \n",
    "I expect there will be a increase between those who take the drug and those who don't.\n",
    "    \n",
    "I expect that if the supplement has an increase in sleep for those who take it compared to those who don't, then those who take it will sleep more.\n",
    "    \n",
    "It may be important that all subjects in each group perform similar sleep habits, example being going to bed at the same time."
   ]
  },
  {
   "cell_type": "markdown",
   "metadata": {},
   "source": [
    "#### 2) Will new uniforms help a gym's business?\n",
    "\n",
    "Have one store wear the new uniforms and one not, for the two groups.\n",
    "\n",
    "Try to use stores that are in similar demographic and socioeconomic areas.\n",
    "\n",
    "I expect the new store unifore will have no impact.\n",
    "\n",
    "If there is a positive impact I would push for using the uniforms company wide, if not then I would keep the original uniforms\n",
    "\n",
    "I would try to make sure that the stores did a similar amount of business and were open the same hours."
   ]
  },
  {
   "cell_type": "markdown",
   "metadata": {},
   "source": [
    "#### 3) Will a new homepage improve my online exotic pet rental business?\n",
    "\n",
    "I would introduce the new homepage to half the visiting population based on the number their IP address ended in odds for old, even for new.\n",
    "\n",
    "Hopefully by splitting by IP address end digit the randomness along will create even samples\n",
    "\n",
    "I expect the new homepage to increase rentals\n",
    "\n",
    "I expect the daily visitation numbers of this site to increase resulting in increased rentals\n",
    "\n",
    "I would hope that the IP address split would result in enough randomness to account for similar variations in socioeconomic and demographic variables."
   ]
  },
  {
   "cell_type": "markdown",
   "metadata": {},
   "source": [
    "#### 4) If I put 'please read' in the email subject will more people read my emails?\n",
    "\n",
    "I would use one set with the message and one without.\n",
    "\n",
    "I would split the sample evenly and as randomly as possible\n",
    "\n",
    "I expect that the \"read\" rate would increase in the group that had the message marked with \"please read.\"\n",
    "\n",
    "I would also expect this to be only a short term fix to the problem of people reading email. With the likely drop of in \"read\" rates over time.\n",
    "\n",
    "I would look at the person's prior read %."
   ]
  }
 ],
 "metadata": {
  "kernelspec": {
   "display_name": "Python 3",
   "language": "python",
   "name": "python3"
  },
  "language_info": {
   "codemirror_mode": {
    "name": "ipython",
    "version": 3
   },
   "file_extension": ".py",
   "mimetype": "text/x-python",
   "name": "python",
   "nbconvert_exporter": "python",
   "pygments_lexer": "ipython3",
   "version": "3.6.3"
  }
 },
 "nbformat": 4,
 "nbformat_minor": 2
}
