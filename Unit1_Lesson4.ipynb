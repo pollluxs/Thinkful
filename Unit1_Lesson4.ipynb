{
 "cells": [
  {
   "cell_type": "markdown",
   "metadata": {},
   "source": [
    "### Drill: Getting Testy. . ."
   ]
  },
  {
   "cell_type": "markdown",
   "metadata": {},
   "source": [
    "#### 1) Does a new supplement help people sleep better?\n",
    "    \n",
    "There should be two groups one given the drug and one that is not. \n",
    "    \n",
    "Both groups should have similar representations of the population(age, race, gender, etc.).\n",
    "    \n",
    "I expect there will be a increase between those who take the drug and those who don't.\n",
    "    \n",
    "I expect that if the supplement has an increase in sleep for those who take it compared to those who don't, then those who take it will sleep more.\n",
    "    \n",
    "It may be important that all subjects in each group perform similar sleep habits, example being going to bed at the same time."
   ]
  },
  {
   "cell_type": "markdown",
   "metadata": {},
   "source": [
    "#### 2) Will new uniforms help a gym's business?\n",
    "\n",
    "Have one store wear the new uniforms and one not, for the two groups.\n",
    "\n",
    "Try to use stores that are in similar demographic and socioeconomic areas.\n",
    "\n",
    "I expect the new store unifore will have no impact.\n",
    "\n",
    "If there is a positive impact I would push for using the uniforms company wide, if not then I would keep the original uniforms\n",
    "\n",
    "I would try to make sure that the stores did a similar amount of business and were open the same hours."
   ]
  },
  {
   "cell_type": "markdown",
   "metadata": {},
   "source": [
    "#### 3) Will a new homepage improve my online exotic pet rental business?\n",
    "\n",
    "I would introduce the new homepage to half the visiting population based on the number their IP address ended in odds for old, even for new.\n",
    "\n",
    "Hopefully by splitting by IP address end digit the randomness along will create even samples\n",
    "\n",
    "I expect the new homepage to increase rentals\n",
    "\n",
    "I expect the daily visitation numbers of this site to increase resulting in increased rentals\n",
    "\n",
    "I would hope that the IP address split would result in enough randomness to account for similar variations in socioeconomic and demographic variables."
   ]
  },
  {
   "cell_type": "markdown",
   "metadata": {},
   "source": [
    "#### 4) If I put 'please read' in the email subject will more people read my emails?\n",
    "\n",
    "I would use one set with the message and one without.\n",
    "\n",
    "I would split the sample evenly and as randomly as possible\n",
    "\n",
    "I expect that the \"read\" rate would increase in the group that had the message marked with \"please read.\"\n",
    "\n",
    "I would also expect this to be only a short term fix to the problem of people reading email. With the likely drop of in \"read\" rates over time.\n",
    "\n",
    "I would look at the person's prior read %."
   ]
  },
  {
   "cell_type": "markdown",
   "metadata": {},
   "source": [
    "### DRILL: Am I Biased?"
   ]
  },
  {
   "cell_type": "markdown",
   "metadata": {},
   "source": [
    "#### You're testing advertising emails for a bathing suit company and you test one version of the email in February and the other in May.\n",
    "\n",
    "You are creating bias based on the time of the year of the shopper.  One may be the type to plan ahead and buy a bathing suit when they're cheaper out of season, while those in the other group may be more free spirited and not plan hence buying a bathing suit at the start of summer."
   ]
  },
  {
   "cell_type": "markdown",
   "metadata": {},
   "source": [
    "#### You open a clinic to treat anxiety and find that the people who visit show a higher rate of anxiety than the general population.\n",
    "\n",
    "If the clinic is open for anxiety treatment than you would expect the patients who visit to have a higher rates of anxiety if they are searching out anxiety treatment, than that of the general population."
   ]
  },
  {
   "cell_type": "markdown",
   "metadata": {},
   "source": [
    "#### You launch a new ad billboard based campaign and see an increase in website visits in the first week.\n",
    "\n",
    "This uptick in website traffic could be a result of the new ad campaign, but it could also be a result of the time of year.  Depending on what the product is, for example baseball gloves would start to sell more in the spring before the season starts. Going along with that example there would also likely be an increase in traffic to sites for baseball gloves.  This uptick may just be the result of people doing research on equipment for upcoming sports seasons."
   ]
  },
  {
   "cell_type": "markdown",
   "metadata": {},
   "source": [
    "#### You launch a loyalty program but see no change in visits in the first week.\n",
    "\n",
    "You haven't allowed for enough time and data to be collected.  There has only been a week so likely there haven't been many new members in the program yet promoting increased visits. This would be important to look at over time, to see of those that do sign up does it increase their patronage?"
   ]
  },
  {
   "cell_type": "markdown",
   "metadata": {},
   "source": [
    "### Challenge: Evaluate an experiment analysis"
   ]
  },
  {
   "cell_type": "markdown",
   "metadata": {},
   "source": [
    "1)\n",
    "\n",
    "You could make the arguement that they both should deliver each line, as Palpatine is the only proven coverter of Jedi. While Vader has tried he eventually fails with Luke, you could make the arguement that Palpatine is just more persuasive, and its not the slogan at all."
   ]
  },
  {
   "cell_type": "markdown",
   "metadata": {},
   "source": [
    "2)\n",
    "\n",
    "There maybe a bias being created that people prefer to talk about their feeling about Jedi with non-Jedi, the idea that its easier to have someone else sell you to people than you selling yourself so to speak. Such is the case Windu finds himself in."
   ]
  },
  {
   "cell_type": "markdown",
   "metadata": {},
   "source": [
    "3)\n",
    "\n",
    "There's bias being created by differences in geography. The comparison of workplace satisfaction should only be done in similar geographic areas to get a better population sample."
   ]
  },
  {
   "cell_type": "markdown",
   "metadata": {},
   "source": [
    "4)\n",
    "\n",
    "There is a bias with those willing to go on the app and those that aren't.  It would assume that those that are willing to be tracked are more likely to be more active anyway. "
   ]
  },
  {
   "cell_type": "markdown",
   "metadata": {},
   "source": [
    "5)\n",
    "\n",
    "There may be biased based on the time the students come in for the test.  With the most punctual being the best in the class.  There could also be a bias in the tests themselves if they are not the same just in different orders."
   ]
  },
  {
   "cell_type": "markdown",
   "metadata": {},
   "source": [
    "### DRILL: Make a quick research proposal"
   ]
  },
  {
   "cell_type": "markdown",
   "metadata": {},
   "source": [
    "##### The Problem:\n",
    "\n",
    "A restaurant has been having a problem with complaints about its food being prepared in correctly, specifically on orders called in to the store.\n",
    "\n",
    "##### The Potential Solution:\n",
    "\n",
    "There is a problem with the phone lines, have it adjusted and serviced\n",
    "\n",
    "##### The Method of Testing:\n",
    "\n",
    "Replace one of the phones and mark what orders are taken on the new/old phone. See if the complaints that come in the subsequent week are predominatly from a particular phone line. If that is the case and the new phone leads to less complaints replace the other phones. If however that is not the case consider other options and do not waste resources on more new phones. "
   ]
  },
  {
   "cell_type": "markdown",
   "metadata": {},
   "source": [
    "### Drill: Signals and Noise"
   ]
  },
  {
   "cell_type": "code",
   "execution_count": 21,
   "metadata": {},
   "outputs": [],
   "source": [
    "import pandas as pd\n",
    "import numpy as np\n",
    "import seaborn as sns\n",
    "from matplotlib import pyplot as plt\n",
    "from scipy import stats\n",
    "%matplotlib inline"
   ]
  },
  {
   "cell_type": "code",
   "execution_count": 22,
   "metadata": {},
   "outputs": [],
   "source": [
    "def t_test(y1_mean,y2_mean,std1,std2,n1,n2):\n",
    "    t = (y1_mean-y2_mean)/(((((std1)**2)/n1)+(((std2)**2)/n2))**.5)\n",
    "    return print('t =',t)"
   ]
  },
  {
   "cell_type": "code",
   "execution_count": 23,
   "metadata": {},
   "outputs": [
    {
     "name": "stdout",
     "output_type": "stream",
     "text": [
      "t = -19.78141420187361\n"
     ]
    }
   ],
   "source": [
    "#1\n",
    "\n",
    "y1_mean = 5\n",
    "y2_mean = 8\n",
    "std1 = 1\n",
    "std2 = 3\n",
    "n1 = 200\n",
    "n2 = 500\n",
    "\n",
    "# answer\n",
    "t_test(y1_mean,y2_mean,std1,std2,n1,n2)"
   ]
  },
  {
   "cell_type": "code",
   "execution_count": 24,
   "metadata": {},
   "outputs": [
    {
     "name": "stdout",
     "output_type": "stream",
     "text": [
      "t = 6.658536585365854\n"
     ]
    }
   ],
   "source": [
    "#2\n",
    "\n",
    "y1_mean = 1090\n",
    "y2_mean = 999\n",
    "std1 = 400\n",
    "std2 = 30\n",
    "n1 = 900\n",
    "n2 = 100\n",
    "\n",
    "# answer\n",
    "t_test(y1_mean,y2_mean,std1,std2,n1,n2)"
   ]
  },
  {
   "cell_type": "code",
   "execution_count": 25,
   "metadata": {},
   "outputs": [
    {
     "name": "stdout",
     "output_type": "stream",
     "text": [
      "t = 3.7139067635410377\n"
     ]
    }
   ],
   "source": [
    "#3\n",
    "\n",
    "y1_mean = 45\n",
    "y2_mean = 40\n",
    "std1 = 45\n",
    "std2 = 40\n",
    "n1 = 2000\n",
    "n2 = 2000\n",
    "\n",
    "# answer\n",
    "t_test(y1_mean,y2_mean,std1,std2,n1,n2)"
   ]
  },
  {
   "cell_type": "markdown",
   "metadata": {},
   "source": [
    "### Experimentation: guided example"
   ]
  },
  {
   "cell_type": "code",
   "execution_count": 26,
   "metadata": {},
   "outputs": [],
   "source": [
    "PATH = \"https://raw.githubusercontent.com/pollluxs/data-201-resources/master/1.4.11_experimentation_guided_example/experiment_data_2_wks.csv\"\n",
    "data = pd.read_csv(PATH)"
   ]
  },
  {
   "cell_type": "code",
   "execution_count": 27,
   "metadata": {},
   "outputs": [
    {
     "data": {
      "text/html": [
       "<div>\n",
       "<style scoped>\n",
       "    .dataframe tbody tr th:only-of-type {\n",
       "        vertical-align: middle;\n",
       "    }\n",
       "\n",
       "    .dataframe tbody tr th {\n",
       "        vertical-align: top;\n",
       "    }\n",
       "\n",
       "    .dataframe thead th {\n",
       "        text-align: right;\n",
       "    }\n",
       "</style>\n",
       "<table border=\"1\" class=\"dataframe\">\n",
       "  <thead>\n",
       "    <tr style=\"text-align: right;\">\n",
       "      <th></th>\n",
       "      <th>treatment_date</th>\n",
       "      <th>test</th>\n",
       "      <th>is_signed_up</th>\n",
       "      <th>signup_date</th>\n",
       "    </tr>\n",
       "  </thead>\n",
       "  <tbody>\n",
       "    <tr>\n",
       "      <th>0</th>\n",
       "      <td>2016-04-01</td>\n",
       "      <td>0</td>\n",
       "      <td>0</td>\n",
       "      <td>NaN</td>\n",
       "    </tr>\n",
       "    <tr>\n",
       "      <th>1</th>\n",
       "      <td>2016-04-01</td>\n",
       "      <td>0</td>\n",
       "      <td>0</td>\n",
       "      <td>NaN</td>\n",
       "    </tr>\n",
       "    <tr>\n",
       "      <th>2</th>\n",
       "      <td>2016-04-01</td>\n",
       "      <td>0</td>\n",
       "      <td>0</td>\n",
       "      <td>NaN</td>\n",
       "    </tr>\n",
       "    <tr>\n",
       "      <th>3</th>\n",
       "      <td>2016-04-01</td>\n",
       "      <td>0</td>\n",
       "      <td>0</td>\n",
       "      <td>NaN</td>\n",
       "    </tr>\n",
       "    <tr>\n",
       "      <th>4</th>\n",
       "      <td>2016-04-01</td>\n",
       "      <td>0</td>\n",
       "      <td>0</td>\n",
       "      <td>NaN</td>\n",
       "    </tr>\n",
       "    <tr>\n",
       "      <th>5</th>\n",
       "      <td>2016-04-01</td>\n",
       "      <td>0</td>\n",
       "      <td>0</td>\n",
       "      <td>NaN</td>\n",
       "    </tr>\n",
       "    <tr>\n",
       "      <th>6</th>\n",
       "      <td>2016-04-01</td>\n",
       "      <td>1</td>\n",
       "      <td>1</td>\n",
       "      <td>2016-04-02</td>\n",
       "    </tr>\n",
       "    <tr>\n",
       "      <th>7</th>\n",
       "      <td>2016-04-01</td>\n",
       "      <td>0</td>\n",
       "      <td>0</td>\n",
       "      <td>NaN</td>\n",
       "    </tr>\n",
       "    <tr>\n",
       "      <th>8</th>\n",
       "      <td>2016-04-01</td>\n",
       "      <td>0</td>\n",
       "      <td>0</td>\n",
       "      <td>NaN</td>\n",
       "    </tr>\n",
       "    <tr>\n",
       "      <th>9</th>\n",
       "      <td>2016-04-01</td>\n",
       "      <td>0</td>\n",
       "      <td>0</td>\n",
       "      <td>NaN</td>\n",
       "    </tr>\n",
       "    <tr>\n",
       "      <th>10</th>\n",
       "      <td>2016-04-01</td>\n",
       "      <td>0</td>\n",
       "      <td>0</td>\n",
       "      <td>NaN</td>\n",
       "    </tr>\n",
       "    <tr>\n",
       "      <th>11</th>\n",
       "      <td>2016-04-01</td>\n",
       "      <td>0</td>\n",
       "      <td>0</td>\n",
       "      <td>NaN</td>\n",
       "    </tr>\n",
       "    <tr>\n",
       "      <th>12</th>\n",
       "      <td>2016-04-01</td>\n",
       "      <td>0</td>\n",
       "      <td>0</td>\n",
       "      <td>NaN</td>\n",
       "    </tr>\n",
       "    <tr>\n",
       "      <th>13</th>\n",
       "      <td>2016-04-01</td>\n",
       "      <td>0</td>\n",
       "      <td>0</td>\n",
       "      <td>NaN</td>\n",
       "    </tr>\n",
       "    <tr>\n",
       "      <th>14</th>\n",
       "      <td>2016-04-01</td>\n",
       "      <td>0</td>\n",
       "      <td>0</td>\n",
       "      <td>NaN</td>\n",
       "    </tr>\n",
       "    <tr>\n",
       "      <th>15</th>\n",
       "      <td>2016-04-01</td>\n",
       "      <td>0</td>\n",
       "      <td>0</td>\n",
       "      <td>NaN</td>\n",
       "    </tr>\n",
       "    <tr>\n",
       "      <th>16</th>\n",
       "      <td>2016-04-01</td>\n",
       "      <td>0</td>\n",
       "      <td>0</td>\n",
       "      <td>NaN</td>\n",
       "    </tr>\n",
       "    <tr>\n",
       "      <th>17</th>\n",
       "      <td>2016-04-01</td>\n",
       "      <td>0</td>\n",
       "      <td>0</td>\n",
       "      <td>NaN</td>\n",
       "    </tr>\n",
       "    <tr>\n",
       "      <th>18</th>\n",
       "      <td>2016-04-01</td>\n",
       "      <td>0</td>\n",
       "      <td>0</td>\n",
       "      <td>NaN</td>\n",
       "    </tr>\n",
       "    <tr>\n",
       "      <th>19</th>\n",
       "      <td>2016-04-01</td>\n",
       "      <td>0</td>\n",
       "      <td>0</td>\n",
       "      <td>NaN</td>\n",
       "    </tr>\n",
       "    <tr>\n",
       "      <th>20</th>\n",
       "      <td>2016-04-01</td>\n",
       "      <td>0</td>\n",
       "      <td>0</td>\n",
       "      <td>NaN</td>\n",
       "    </tr>\n",
       "    <tr>\n",
       "      <th>21</th>\n",
       "      <td>2016-04-01</td>\n",
       "      <td>0</td>\n",
       "      <td>0</td>\n",
       "      <td>NaN</td>\n",
       "    </tr>\n",
       "    <tr>\n",
       "      <th>22</th>\n",
       "      <td>2016-04-01</td>\n",
       "      <td>1</td>\n",
       "      <td>0</td>\n",
       "      <td>NaN</td>\n",
       "    </tr>\n",
       "    <tr>\n",
       "      <th>23</th>\n",
       "      <td>2016-04-01</td>\n",
       "      <td>1</td>\n",
       "      <td>0</td>\n",
       "      <td>NaN</td>\n",
       "    </tr>\n",
       "    <tr>\n",
       "      <th>24</th>\n",
       "      <td>2016-04-01</td>\n",
       "      <td>0</td>\n",
       "      <td>0</td>\n",
       "      <td>NaN</td>\n",
       "    </tr>\n",
       "  </tbody>\n",
       "</table>\n",
       "</div>"
      ],
      "text/plain": [
       "   treatment_date  test  is_signed_up signup_date\n",
       "0      2016-04-01     0             0         NaN\n",
       "1      2016-04-01     0             0         NaN\n",
       "2      2016-04-01     0             0         NaN\n",
       "3      2016-04-01     0             0         NaN\n",
       "4      2016-04-01     0             0         NaN\n",
       "5      2016-04-01     0             0         NaN\n",
       "6      2016-04-01     1             1  2016-04-02\n",
       "7      2016-04-01     0             0         NaN\n",
       "8      2016-04-01     0             0         NaN\n",
       "9      2016-04-01     0             0         NaN\n",
       "10     2016-04-01     0             0         NaN\n",
       "11     2016-04-01     0             0         NaN\n",
       "12     2016-04-01     0             0         NaN\n",
       "13     2016-04-01     0             0         NaN\n",
       "14     2016-04-01     0             0         NaN\n",
       "15     2016-04-01     0             0         NaN\n",
       "16     2016-04-01     0             0         NaN\n",
       "17     2016-04-01     0             0         NaN\n",
       "18     2016-04-01     0             0         NaN\n",
       "19     2016-04-01     0             0         NaN\n",
       "20     2016-04-01     0             0         NaN\n",
       "21     2016-04-01     0             0         NaN\n",
       "22     2016-04-01     1             0         NaN\n",
       "23     2016-04-01     1             0         NaN\n",
       "24     2016-04-01     0             0         NaN"
      ]
     },
     "execution_count": 27,
     "metadata": {},
     "output_type": "execute_result"
    }
   ],
   "source": [
    "data.head(25)"
   ]
  },
  {
   "cell_type": "markdown",
   "metadata": {},
   "source": [
    "#### Answer the questions below about this data to see how the experiment is developing"
   ]
  },
  {
   "cell_type": "code",
   "execution_count": 28,
   "metadata": {},
   "outputs": [
    {
     "name": "stdout",
     "output_type": "stream",
     "text": [
      "How large is each group? \n",
      "\n",
      "Test Group Size:  3372\n",
      "Control Group Size:  30241\n",
      "Total Sample Size:  33613 \n",
      "\n",
      "What is the signup rate of test and control? \n",
      "\n",
      "Test Sign-up Rate: 0.13701067615658363\n",
      "Control Sign-up Rate: 0.14708508316523924 \n",
      "\n",
      "Is the experiment already significant?\n"
     ]
    },
    {
     "data": {
      "text/plain": [
       "Ttest_indResult(statistic=-1.5711354292574262, pvalue=0.11616060761145311)"
      ]
     },
     "execution_count": 28,
     "metadata": {},
     "output_type": "execute_result"
    }
   ],
   "source": [
    "print('How large is each group?', '\\n')\n",
    "print('Test Group Size: ', len(data[data['test']==1]))\n",
    "print('Control Group Size: ', len(data[data['test']==0]))\n",
    "print('Total Sample Size: ', len(data['test']), '\\n')\n",
    "\n",
    "print('What is the signup rate of test and control?', '\\n')\n",
    "print('Test Sign-up Rate:' , data[data['test']==1].is_signed_up.mean())\n",
    "print('Control Sign-up Rate:' , data[data['test']==0].is_signed_up.mean(), '\\n')\n",
    "\n",
    "\n",
    "print('Is the experiment already significant?')\n",
    "stats.ttest_ind(data[data['test']==1].is_signed_up,\n",
    "               data[data['test']==0].is_signed_up)"
   ]
  },
  {
   "cell_type": "code",
   "execution_count": 29,
   "metadata": {},
   "outputs": [
    {
     "data": {
      "text/html": [
       "<div>\n",
       "<style scoped>\n",
       "    .dataframe tbody tr th:only-of-type {\n",
       "        vertical-align: middle;\n",
       "    }\n",
       "\n",
       "    .dataframe tbody tr th {\n",
       "        vertical-align: top;\n",
       "    }\n",
       "\n",
       "    .dataframe thead th {\n",
       "        text-align: right;\n",
       "    }\n",
       "</style>\n",
       "<table border=\"1\" class=\"dataframe\">\n",
       "  <thead>\n",
       "    <tr style=\"text-align: right;\">\n",
       "      <th></th>\n",
       "      <th>treatment_date</th>\n",
       "      <th>test</th>\n",
       "      <th>is_signed_up</th>\n",
       "      <th>signup_date</th>\n",
       "    </tr>\n",
       "  </thead>\n",
       "  <tbody>\n",
       "    <tr>\n",
       "      <th>0</th>\n",
       "      <td>2016-04-01</td>\n",
       "      <td>0</td>\n",
       "      <td>0</td>\n",
       "      <td>NaN</td>\n",
       "    </tr>\n",
       "    <tr>\n",
       "      <th>1</th>\n",
       "      <td>2016-04-01</td>\n",
       "      <td>0</td>\n",
       "      <td>0</td>\n",
       "      <td>NaN</td>\n",
       "    </tr>\n",
       "    <tr>\n",
       "      <th>2</th>\n",
       "      <td>2016-04-01</td>\n",
       "      <td>0</td>\n",
       "      <td>0</td>\n",
       "      <td>NaN</td>\n",
       "    </tr>\n",
       "    <tr>\n",
       "      <th>3</th>\n",
       "      <td>2016-04-01</td>\n",
       "      <td>0</td>\n",
       "      <td>0</td>\n",
       "      <td>NaN</td>\n",
       "    </tr>\n",
       "    <tr>\n",
       "      <th>4</th>\n",
       "      <td>2016-04-01</td>\n",
       "      <td>0</td>\n",
       "      <td>0</td>\n",
       "      <td>NaN</td>\n",
       "    </tr>\n",
       "  </tbody>\n",
       "</table>\n",
       "</div>"
      ],
      "text/plain": [
       "  treatment_date  test  is_signed_up signup_date\n",
       "0     2016-04-01     0             0         NaN\n",
       "1     2016-04-01     0             0         NaN\n",
       "2     2016-04-01     0             0         NaN\n",
       "3     2016-04-01     0             0         NaN\n",
       "4     2016-04-01     0             0         NaN"
      ]
     },
     "execution_count": 29,
     "metadata": {},
     "output_type": "execute_result"
    }
   ],
   "source": [
    "data.head()"
   ]
  },
  {
   "cell_type": "code",
   "execution_count": 30,
   "metadata": {},
   "outputs": [
    {
     "data": {
      "image/png": "[encoded data removed]",
      "text/plain": [
       "<matplotlib.figure.Figure at 0x16e9d040048>"
      ]
     },
     "metadata": {},
     "output_type": "display_data"
    }
   ],
   "source": [
    "graph = data[data['test']==1][['treatment_date', 'is_signed_up']].groupby('treatment_date').mean().plot()\n",
    "data[data['test']==0][['treatment_date', 'is_signed_up']].groupby('treatment_date').mean().plot(ax=graph)\n",
    "plt.legend(['test','control'])\n",
    "plt.title('Comparing Signup Rates by Treatment Date')\n",
    "plt.show()"
   ]
  },
  {
   "cell_type": "markdown",
   "metadata": {},
   "source": [
    "#### Generate a test statistic comparing test and control on treatment date"
   ]
  },
  {
   "cell_type": "code",
   "execution_count": 32,
   "metadata": {},
   "outputs": [
    {
     "name": "stdout",
     "output_type": "stream",
     "text": [
      "T-tests By Date\n",
      "Ttest_indResult(statistic=1.171015382328547, pvalue=0.24172432121696255)\n",
      "Ttest_indResult(statistic=0.39163213374090855, pvalue=0.69536307583404477)\n",
      "Ttest_indResult(statistic=0.24114731791032132, pvalue=0.80946517427234477)\n",
      "Ttest_indResult(statistic=1.0061466712652529, pvalue=0.31442818877672118)\n",
      "Ttest_indResult(statistic=1.7950152227404037, pvalue=0.072795024323400598)\n",
      "Ttest_indResult(statistic=-0.071422569493390833, pvalue=0.94306811838128202)\n",
      "Ttest_indResult(statistic=-0.99645401324533001, pvalue=0.31911047625459077)\n",
      "Ttest_indResult(statistic=-1.4059315672051254, pvalue=0.15989309224108991)\n",
      "Ttest_indResult(statistic=-2.7727725116434869, pvalue=0.0055926512303104605)\n",
      "Ttest_indResult(statistic=-1.301097855458891, pvalue=0.19332775805677105)\n",
      "Ttest_indResult(statistic=-1.6243695706046337, pvalue=0.10443285596458776)\n",
      "Ttest_indResult(statistic=-2.5595402548533168, pvalue=0.010550250694229046)\n",
      "Ttest_indResult(statistic=-0.85179312629079196, pvalue=0.39442121215359549)\n",
      "Ttest_indResult(statistic=0.014473352887334019, pvalue=0.98845369573364739)\n"
     ]
    }
   ],
   "source": [
    "print('T-tests By Date')\n",
    "for date in data['treatment_date'].unique():\n",
    "    data_w_dates = data[data['treatment_date']==date]\n",
    "    print(stats.ttest_ind(data_w_dates[data_w_dates['test']==1].is_signed_up, \n",
    "                         data_w_dates[data_w_dates['test']==0].is_signed_up))"
   ]
  },
  {
   "cell_type": "markdown",
   "metadata": {},
   "source": [
    "#### New Data"
   ]
  },
  {
   "cell_type": "code",
   "execution_count": 34,
   "metadata": {},
   "outputs": [],
   "source": [
    "PATH = 'https://raw.githubusercontent.com/Thinkful-Ed/data-201-resources/master/1.4.11_experimentation_guided_example/experiment_data_final.csv'\n",
    "new_data = pd.read_csv(PATH)"
   ]
  },
  {
   "cell_type": "code",
   "execution_count": 35,
   "metadata": {},
   "outputs": [
    {
     "name": "stdout",
     "output_type": "stream",
     "text": [
      "How large is each group? \n",
      "\n",
      "Test Group Size:  19861\n",
      "Control Group Size:  46867\n",
      "Total Sample Size:  66728 \n",
      "\n",
      "What is the signup rate of test and control? \n",
      "\n",
      "Test Sign-up Rate: 0.2421328231206888\n",
      "Control Sign-up Rate: 0.19937269293959503 \n",
      "\n",
      "Is the experiment already significant?\n"
     ]
    },
    {
     "data": {
      "text/plain": [
       "Ttest_indResult(statistic=12.368130184147793, pvalue=4.2481677149116848e-35)"
      ]
     },
     "execution_count": 35,
     "metadata": {},
     "output_type": "execute_result"
    }
   ],
   "source": [
    "print('How large is each group?', '\\n')\n",
    "print('Test Group Size: ', len(new_data[new_data['test']==1]))\n",
    "print('Control Group Size: ', len(new_data[new_data['test']==0]))\n",
    "print('Total Sample Size: ', len(new_data['test']), '\\n')\n",
    "\n",
    "print('What is the signup rate of test and control?', '\\n')\n",
    "print('Test Sign-up Rate:' , new_data[new_data['test']==1].is_signed_up.mean())\n",
    "print('Control Sign-up Rate:' , new_data[new_data['test']==0].is_signed_up.mean(), '\\n')\n",
    "\n",
    "\n",
    "print('Is the experiment already significant?')\n",
    "stats.ttest_ind(new_data[new_data['test']==1].is_signed_up,\n",
    "               new_data[new_data['test']==0].is_signed_up)"
   ]
  },
  {
   "cell_type": "code",
   "execution_count": 36,
   "metadata": {},
   "outputs": [
    {
     "data": {
      "image/png": "[encoded data removed]",
      "text/plain": [
       "<matplotlib.figure.Figure at 0x16e9d944dd8>"
      ]
     },
     "metadata": {},
     "output_type": "display_data"
    }
   ],
   "source": [
    "graph_2 = new_data[new_data['test']==1][['treatment_date', 'is_signed_up']].groupby('treatment_date').mean().plot()\n",
    "new_data[new_data['test']==0][['treatment_date', 'is_signed_up']].groupby('treatment_date').mean().plot(ax=graph_2)\n",
    "plt.legend(['test','control'])\n",
    "plt.title('Comparing Signup Rates by Treatment Date')\n",
    "plt.show()"
   ]
  },
  {
   "cell_type": "code",
   "execution_count": null,
   "metadata": {},
   "outputs": [],
   "source": []
  }
 ],
 "metadata": {
  "kernelspec": {
   "display_name": "Python 3",
   "language": "python",
   "name": "python3"
  },
  "language_info": {
   "codemirror_mode": {
    "name": "ipython",
    "version": 3
   },
   "file_extension": ".py",
   "mimetype": "text/x-python",
   "name": "python",
   "nbconvert_exporter": "python",
   "pygments_lexer": "ipython3",
   "version": "3.6.3"
  }
 },
 "nbformat": 4,
 "nbformat_minor": 2
}
