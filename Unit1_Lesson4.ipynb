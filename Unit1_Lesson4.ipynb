{
 "cells": [
  {
   "cell_type": "markdown",
   "metadata": {},
   "source": [
    "### Drill: Getting Testy. . ."
   ]
  },
  {
   "cell_type": "markdown",
   "metadata": {},
   "source": [
    "#### 1) Does a new supplement help people sleep better?\n",
    "    \n",
    "There should be two groups one given the drug and one that is not. \n",
    "    \n",
    "Both groups should have similar representations of the population(age, race, gender, etc.).\n",
    "    \n",
    "I expect there will be a increase between those who take the drug and those who don't.\n",
    "    \n",
    "I expect that if the supplement has an increase in sleep for those who take it compared to those who don't, then those who take it will sleep more.\n",
    "    \n",
    "It may be important that all subjects in each group perform similar sleep habits, example being going to bed at the same time."
   ]
  },
  {
   "cell_type": "markdown",
   "metadata": {},
   "source": [
    "#### 2) Will new uniforms help a gym's business?\n",
    "\n",
    "Have one store wear the new uniforms and one not, for the two groups.\n",
    "\n",
    "Try to use stores that are in similar demographic and socioeconomic areas.\n",
    "\n",
    "I expect the new store unifore will have no impact.\n",
    "\n",
    "If there is a positive impact I would push for using the uniforms company wide, if not then I would keep the original uniforms\n",
    "\n",
    "I would try to make sure that the stores did a similar amount of business and were open the same hours."
   ]
  },
  {
   "cell_type": "markdown",
   "metadata": {},
   "source": [
    "#### 3) Will a new homepage improve my online exotic pet rental business?\n",
    "\n",
    "I would introduce the new homepage to half the visiting population based on the number their IP address ended in odds for old, even for new.\n",
    "\n",
    "Hopefully by splitting by IP address end digit the randomness along will create even samples\n",
    "\n",
    "I expect the new homepage to increase rentals\n",
    "\n",
    "I expect the daily visitation numbers of this site to increase resulting in increased rentals\n",
    "\n",
    "I would hope that the IP address split would result in enough randomness to account for similar variations in socioeconomic and demographic variables."
   ]
  },
  {
   "cell_type": "markdown",
   "metadata": {},
   "source": [
    "#### 4) If I put 'please read' in the email subject will more people read my emails?\n",
    "\n",
    "I would use one set with the message and one without.\n",
    "\n",
    "I would split the sample evenly and as randomly as possible\n",
    "\n",
    "I expect that the \"read\" rate would increase in the group that had the message marked with \"please read.\"\n",
    "\n",
    "I would also expect this to be only a short term fix to the problem of people reading email. With the likely drop of in \"read\" rates over time.\n",
    "\n",
    "I would look at the person's prior read %."
   ]
  },
  {
   "cell_type": "markdown",
   "metadata": {},
   "source": [
    "### DRILL: Am I Biased?"
   ]
  },
  {
   "cell_type": "markdown",
   "metadata": {},
   "source": [
    "#### You're testing advertising emails for a bathing suit company and you test one version of the email in February and the other in May.\n",
    "\n",
    "You are creating bias based on the time of the year of the shopper.  One may be the type to plan ahead and buy a bathing suit when they're cheaper out of season, while those in the other group may be more free spirited and not plan hence buying a bathing suit at the start of summer."
   ]
  },
  {
   "cell_type": "markdown",
   "metadata": {},
   "source": [
    "#### You open a clinic to treat anxiety and find that the people who visit show a higher rate of anxiety than the general population.\n",
    "\n",
    "If the clinic is open for anxiety treatment than you would expect the patients who visit to have a higher rates of anxiety if they are searching out anxiety treatment, than that of the general population."
   ]
  },
  {
   "cell_type": "markdown",
   "metadata": {},
   "source": [
    "#### You launch a new ad billboard based campaign and see an increase in website visits in the first week.\n",
    "\n",
    "This uptick in website traffic could be a result of the new ad campaign, but it could also be a result of the time of year.  Depending on what the product is, for example baseball gloves would start to sell more in the spring before the season starts. Going along with that example there would also likely be an increase in traffic to sites for baseball gloves.  This uptick may just be the result of people doing research on equipment for upcoming sports seasons."
   ]
  },
  {
   "cell_type": "markdown",
   "metadata": {},
   "source": [
    "#### You launch a loyalty program but see no change in visits in the first week.\n",
    "\n",
    "You haven't allowed for enough time and data to be collected.  There has only been a week so likely there haven't been many new members in the program yet promoting increased visits. This would be important to look at over time, to see of those that do sign up does it increase their patronage?"
   ]
  },
  {
   "cell_type": "markdown",
   "metadata": {},
   "source": [
    "### Challenge: Evaluate an experiment analysis"
   ]
  },
  {
   "cell_type": "markdown",
   "metadata": {},
   "source": [
    "1)\n",
    "\n",
    "You could make the arguement that they both should deliver each line, as Palpatine is the only proven coverter of Jedi. While Vader has tried he eventually fails with Luke, you could make the arguement that Palpatine is just more persuasive, and its not the slogan at all."
   ]
  },
  {
   "cell_type": "markdown",
   "metadata": {},
   "source": [
    "2)\n",
    "\n",
    "There maybe a bias being created that people prefer to talk about their feeling about Jedi with non-Jedi, the idea that its easier to have someone else sell you to people than you selling yourself so to speak. Such is the case Windu finds himself in."
   ]
  },
  {
   "cell_type": "markdown",
   "metadata": {},
   "source": [
    "3)\n",
    "\n",
    "There's bias being created by differences in geography. The comparison of workplace satisfaction should only be done in similar geographic areas to get a better population sample."
   ]
  },
  {
   "cell_type": "markdown",
   "metadata": {},
   "source": [
    "4)\n",
    "\n",
    "There is a bias with those willing to go on the app and those that aren't.  It would assume that those that are willing to be tracked are more likely to be more active anyway. "
   ]
  },
  {
   "cell_type": "markdown",
   "metadata": {},
   "source": [
    "5)\n",
    "\n",
    "There may be biased based on the time the students come in for the test.  With the most punctual being the best in the class.  There could also be a bias in the tests themselves if they are not the same just in different orders."
   ]
  },
  {
   "cell_type": "markdown",
   "metadata": {},
   "source": [
    "### DRILL: Make a quick research proposal"
   ]
  },
  {
   "cell_type": "code",
   "execution_count": null,
   "metadata": {},
   "outputs": [],
   "source": []
  }
 ],
 "metadata": {
  "kernelspec": {
   "display_name": "Python 3",
   "language": "python",
   "name": "python3"
  },
  "language_info": {
   "codemirror_mode": {
    "name": "ipython",
    "version": 3
   },
   "file_extension": ".py",
   "mimetype": "text/x-python",
   "name": "python",
   "nbconvert_exporter": "python",
   "pygments_lexer": "ipython3",
   "version": "3.6.3"
  }
 },
 "nbformat": 4,
 "nbformat_minor": 2
}
