{
 "cells": [
  {
   "cell_type": "code",
   "execution_count": 1,
   "metadata": {},
   "outputs": [],
   "source": [
    "import pandas as pd\n",
    "import numpy as np\n",
    "import matplotlib.pyplot as plt\n",
    "import seaborn as sns\n",
    "import scipy.stats as stats\n",
    "from sklearn import preprocessing\n",
    "import math\n",
    "from matplotlib.mlab import PCA as mlabPCA\n",
    "from sklearn.preprocessing import StandardScaler\n",
    "from sklearn.decomposition import PCA "
   ]
  },
  {
   "cell_type": "markdown",
   "metadata": {},
   "source": [
    "#### Drill: Regression or Classification"
   ]
  },
  {
   "cell_type": "markdown",
   "metadata": {},
   "source": [
    "For each of the following situations, decide if you would model using a regression or classification model. Discuss your reasoning with your mentor next time you meet.\n",
    "\n",
    "    The amount a person will spend on a given site in the next 24 months.\n",
    "        \n",
    "        regression\n",
    "\n",
    "    What color car someone is going to buy.\n",
    "    \n",
    "        classification\n",
    "\n",
    "    How many children a family will have.\n",
    "    \n",
    "        classification\n",
    "\n",
    "    If someone will sign up for a service.\n",
    "    \n",
    "        classification\n",
    "\n",
    "    The number of times someone will get sick in a year.\n",
    "    \n",
    "        regression\n",
    "\n",
    "    The probability someone will get sick in the next month.\n",
    "    \n",
    "        regression\n",
    "\n",
    "    Which medicine will work best for a given patient.\n",
    "    \n",
    "        classification\n"
   ]
  },
  {
   "cell_type": "code",
   "execution_count": null,
   "metadata": {},
   "outputs": [],
   "source": []
  }
 ],
 "metadata": {
  "kernelspec": {
   "display_name": "Python 3",
   "language": "python",
   "name": "python3"
  },
  "language_info": {
   "codemirror_mode": {
    "name": "ipython",
    "version": 3
   },
   "file_extension": ".py",
   "mimetype": "text/x-python",
   "name": "python",
   "nbconvert_exporter": "python",
   "pygments_lexer": "ipython3",
   "version": "3.6.3"
  }
 },
 "nbformat": 4,
 "nbformat_minor": 2
}
