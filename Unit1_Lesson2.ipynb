{
 "cells": [
  {
   "cell_type": "markdown",
   "metadata": {},
   "source": [
    "#### Lesson 2: SQL - data access methods"
   ]
  },
  {
   "cell_type": "markdown",
   "metadata": {},
   "source": [
    "##### Drill: Select, from, where"
   ]
  },
  {
   "cell_type": "code",
   "execution_count": null,
   "metadata": {},
   "outputs": [],
   "source": [
    "#1. The ID's and durations for all trips of duration greater than 500,\n",
    "#    ordered by duration.\n",
    "\n",
    "#SELECT\n",
    "#     trip_id,\n",
    "#     bike_id,\n",
    "#     duration\n",
    "# FROM \n",
    "#     trips\n",
    "# WHERE \n",
    "#     duration>500\n",
    "# ORDER BY duration DESC"
   ]
  },
  {
   "cell_type": "code",
   "execution_count": null,
   "metadata": {},
   "outputs": [],
   "source": [
    "# SELECT\n",
    "#     trip_id, bike_id, duration\n",
    "# FROM\n",
    "#     trips\n",
    "# WHERE\n",
    "#     duration>500\n",
    "# ORDER BY\n",
    "#     duration DESC"
   ]
  },
  {
   "cell_type": "code",
   "execution_count": null,
   "metadata": {},
   "outputs": [],
   "source": [
    "#2. Every column of the stations table for station id 84.\n",
    "\n",
    "#     SELECT\n",
    "#         *\n",
    "#     FROM \n",
    "#         stations\n",
    "#     WHERE \n",
    "#         station_id=84"
   ]
  },
  {
   "cell_type": "code",
   "execution_count": null,
   "metadata": {},
   "outputs": [],
   "source": [
    "# SELECT\n",
    "#     *\n",
    "# FROM\n",
    "#     stations\n",
    "# WHERE\n",
    "#     station_id=84"
   ]
  },
  {
   "cell_type": "code",
   "execution_count": null,
   "metadata": {},
   "outputs": [],
   "source": [
    "#3. The min temperatures of all the occurrences of rain in zip 94301.\n",
    "\n",
    "# SELECT\n",
    "#   MinTemperatureF\n",
    "# FROM \n",
    "#   weather\n",
    "# WHERE \n",
    "#   ZIP=94301 AND\n",
    "#   PrecipitationIn > 0"
   ]
  },
  {
   "cell_type": "code",
   "execution_count": null,
   "metadata": {},
   "outputs": [],
   "source": [
    "# SELECT\n",
    "#     MinTemperatureF\n",
    "# FROM\n",
    "#     weather\n",
    "# WHERE\n",
    "#     zip=94301 AND PrecipitationIn > 0"
   ]
  },
  {
   "cell_type": "markdown",
   "metadata": {},
   "source": [
    "##### Drill: Aggregates and groups"
   ]
  },
  {
   "cell_type": "code",
   "execution_count": null,
   "metadata": {},
   "outputs": [],
   "source": [
    "#1. What was the hottest day in our data set? Where was that? 134 degrees F, 94063\n",
    "\n",
    "# SELECT\n",
    "#     MAX(MaxTemperatureF),\n",
    "#     ZIP\n",
    "# FROM\n",
    "#     weather"
   ]
  },
  {
   "cell_type": "code",
   "execution_count": null,
   "metadata": {},
   "outputs": [],
   "source": [
    "#2. How many trips started at each station?\n",
    "\n",
    "# SELECT\n",
    "#     count(start_station) starts,\n",
    "#    start_station name_of_station\n",
    "# FROM\n",
    "#     trips\n",
    "# GROUP BY\n",
    "#   start_station"
   ]
  },
  {
   "cell_type": "code",
   "execution_count": null,
   "metadata": {},
   "outputs": [],
   "source": [
    "#3 What's the shortest trip that happened?\n",
    "\n",
    "# 60, Mezes\n",
    "\n",
    "# SELECT\n",
    "#     min(duration) shortest,\n",
    "#     start_station name_of_station\n",
    "# FROM\n",
    "#     trips"
   ]
  },
  {
   "cell_type": "code",
   "execution_count": null,
   "metadata": {},
   "outputs": [],
   "source": [
    "#4 What is the average trip duration, by end station?\n",
    "\n",
    "# SELECT\n",
    "#     avg(duration) avg_duration,\n",
    "#     end_station name_of_station\n",
    "# FROM\n",
    "#     trips\n",
    "# GROUP BY\n",
    "#     end_station"
   ]
  },
  {
   "cell_type": "markdown",
   "metadata": {},
   "source": [
    "##### Drill: Joins and CTEs"
   ]
  },
  {
   "cell_type": "code",
   "execution_count": null,
   "metadata": {},
   "outputs": [],
   "source": [
    "#1 What are the three longest trips on rainy days?\n",
    "\n",
    "# with rain_days as\n",
    "#     (SELECT \n",
    "#         date \n",
    "#         FROM weather\n",
    "#         WHERE events = 'Rain'\n",
    "#         GROUP BY 1\n",
    "#     )\n",
    "\n",
    "# SELECT \n",
    "#     trip_id,\n",
    "#     duration,\n",
    "#     DATE(start_date) trip_date\n",
    "#     FROM trips\n",
    "#     JOIN rain_days\n",
    "#     on rain_days.Date = trip_date\n",
    "# ORDER BY duration desc\n",
    "# LIMIT 3"
   ]
  },
  {
   "cell_type": "code",
   "execution_count": null,
   "metadata": {},
   "outputs": [],
   "source": [
    "# 2 Which station is full most often?\n",
    "\n",
    "# SELECT \n",
    "# status.station_id,\n",
    "# stations.name,\n",
    "# COUNT(CASE WHEN docks_available=0 then 1 END) empty_count\n",
    "# FROM status\n",
    "# JOIN stations\n",
    "# on stations.station_id = status.station_id\n",
    "# GROUP BY 1\n",
    "# ORDER BY empty_count DESC"
   ]
  },
  {
   "cell_type": "code",
   "execution_count": null,
   "metadata": {},
   "outputs": [],
   "source": [
    "#3 Return a list of stations with a count of number of trips starting at that station but ordered by dock count.\n",
    "\n",
    "# SELECT \n",
    "# start_station,\n",
    "# dockcount,\n",
    "# COUNT(*)\n",
    "# FROM trips\n",
    "# JOIN stations\n",
    "# on stations.name = trips.start_station\n",
    "# GROUP BY 1, 2\n",
    "# ORDER BY 1 DESC"
   ]
  },
  {
   "cell_type": "code",
   "execution_count": null,
   "metadata": {},
   "outputs": [],
   "source": [
    "#4 (Challenge) What's the length of the longest trip for each day it rains anywhere?\n",
    "\n",
    "# with rain_days as\n",
    "#     (SELECT \n",
    "#     date\n",
    "#     FROM weather\n",
    "#     WHERE events = 'Rain'\n",
    "#     GROUP BY 1\n",
    "#     ),\n",
    "\n",
    "# rainy_rides as \n",
    "#     (SELECT \n",
    "#     trip_id\n",
    "#     duration,\n",
    "#     DATE(start_date) ride_date\n",
    "#     FROM trips\n",
    "#     JOIN rain_days\n",
    "#     on rain_days.date = ride_date\n",
    "#     ORDER BY duration DESC \n",
    "#     )\n",
    "\n",
    "# SELECT \n",
    "#     ride_date,\n",
    "#     MAX(duration)\n",
    "#     FROM rainy_rides\n",
    "#     GROUP BY ride_date"
   ]
  },
  {
   "cell_type": "markdown",
   "metadata": {},
   "source": [
    "##### Challenge: Airbnb in SanFran"
   ]
  },
  {
   "cell_type": "markdown",
   "metadata": {},
   "source": [
    "What's the most expensive listing? What else can you tell me about the listing?"
   ]
  },
  {
   "cell_type": "code",
   "execution_count": null,
   "metadata": {},
   "outputs": [],
   "source": [
    "# SELECT\n",
    "#     MAX(price),\n",
    "#     *\n",
    "# FROM \n",
    "#     listings"
   ]
  },
  {
   "cell_type": "markdown",
   "metadata": {},
   "source": [
    "The max price was 10000"
   ]
  },
  {
   "cell_type": "code",
   "execution_count": null,
   "metadata": {},
   "outputs": [],
   "source": [
    "# SELECT\n",
    "#     *\n",
    "# FROM \n",
    "#     sfo_listings\n",
    "# WHERE\n",
    "#     price = 10000"
   ]
  },
  {
   "cell_type": "markdown",
   "metadata": {},
   "source": [
    "id = 24650875\n",
    "\n",
    "name = Full House Victorian: 7500 SqFt, 4 Floors, Hot Tub\n",
    "\n",
    "host_id = 6460979\n",
    "\n",
    "host_name = Sarah\n",
    "\n",
    "neighbourhood = Western Addition\n",
    "\n",
    "latitude = 37.78023001738564\n",
    "\n",
    "longitude = -122.44046111352687\n",
    "\n",
    "room_type = Entire home/apt\n",
    "\n",
    "price = 10000\n",
    "\n",
    "minimum_nights = 2\n",
    "\n",
    "number of reviews = 3\n",
    "\n",
    "last_review = 2018-05-24\n",
    "\n",
    "reviews_per_month = 1\n",
    "\n",
    "calculated_host_listings_count = 4\n",
    "\n",
    "availability_365 = 18"
   ]
  },
  {
   "cell_type": "markdown",
   "metadata": {},
   "source": [
    "What neighborhoods seem to be the most popular?"
   ]
  },
  {
   "cell_type": "code",
   "execution_count": 1,
   "metadata": {},
   "outputs": [],
   "source": [
    "# SELECT\n",
    "#     neighbourhood,\n",
    "#     availability_365\n",
    "# FROM\n",
    "#     sfo_listings\n",
    "# ORDER BY\n",
    "#     availability_365 ASC"
   ]
  },
  {
   "cell_type": "markdown",
   "metadata": {},
   "source": [
    "Downtown/Civic Center, Western Addition, West of Twin Peaks are a few of what seem to be the desired neighbourhoods"
   ]
  },
  {
   "cell_type": "markdown",
   "metadata": {},
   "source": [
    "What time of year is the cheapest time to go to San Francisco? What about the busiest?"
   ]
  },
  {
   "cell_type": "code",
   "execution_count": null,
   "metadata": {},
   "outputs": [],
   "source": [
    "SELECT\n",
    "    c.calender_date as date,\n",
    "    l.price as price\n",
    "FROM\n"
   ]
  }
 ],
 "metadata": {
  "kernelspec": {
   "display_name": "Python 3",
   "language": "python",
   "name": "python3"
  },
  "language_info": {
   "codemirror_mode": {
    "name": "ipython",
    "version": 3
   },
   "file_extension": ".py",
   "mimetype": "text/x-python",
   "name": "python",
   "nbconvert_exporter": "python",
   "pygments_lexer": "ipython3",
   "version": "3.6.3"
  }
 },
 "nbformat": 4,
 "nbformat_minor": 2
}
