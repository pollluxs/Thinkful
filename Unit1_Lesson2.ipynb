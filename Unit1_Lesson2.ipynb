{
 "cells": [
  {
   "cell_type": "markdown",
   "metadata": {},
   "source": [
    "#### Lesson 2: SQL - data access methods"
   ]
  },
  {
   "cell_type": "markdown",
   "metadata": {},
   "source": [
    "##### Drill: Select, from, where"
   ]
  },
  {
   "cell_type": "code",
   "execution_count": null,
   "metadata": {},
   "outputs": [],
   "source": [
    "#1. The ID's and durations for all trips of duration greater than 500,\n",
    "#    ordered by duration.\n",
    "\n",
    "#SELECT\n",
    "#     trip_id,\n",
    "#     bike_id,\n",
    "#     duration\n",
    "# FROM \n",
    "#     trips\n",
    "# WHERE \n",
    "#     duration>500\n",
    "# ORDER BY duration DESC"
   ]
  },
  {
   "cell_type": "code",
   "execution_count": null,
   "metadata": {},
   "outputs": [],
   "source": [
    "#2. Every column of the stations table for station id 84.\n",
    "\n",
    "#     SELECT\n",
    "#         *\n",
    "#     FROM \n",
    "#         stations\n",
    "#     WHERE \n",
    "#         station_id=84"
   ]
  },
  {
   "cell_type": "code",
   "execution_count": null,
   "metadata": {},
   "outputs": [],
   "source": [
    "#3. The min temperatures of all the occurrences of rain in zip 94301.\n",
    "\n",
    "# SELECT\n",
    "#   MinTemperatureF\n",
    "# FROM \n",
    "#   weather\n",
    "# WHERE \n",
    "#   ZIP=94301 AND\n",
    "#   PrecipitationIn >= 0"
   ]
  },
  {
   "cell_type": "markdown",
   "metadata": {},
   "source": [
    "##### Drill: Aggregates and groups"
   ]
  },
  {
   "cell_type": "code",
   "execution_count": null,
   "metadata": {},
   "outputs": [],
   "source": [
    "#1. What was the hottest day in our data set? Where was that? 134 degrees F, 94063\n",
    "\n",
    "# SELECT\n",
    "#     MAX(MaxTemperatureF),\n",
    "#     ZIP\n",
    "# FROM\n",
    "#     weather"
   ]
  },
  {
   "cell_type": "code",
   "execution_count": null,
   "metadata": {},
   "outputs": [],
   "source": [
    "#2. How many trips started at each station?\n",
    "\n",
    "# SELECT\n",
    "#     count(start_station) starts,\n",
    "#    start_station name_of_station\n",
    "# FROM\n",
    "#     trips\n",
    "# GROUP BY\n",
    "#   start_station"
   ]
  },
  {
   "cell_type": "code",
   "execution_count": null,
   "metadata": {},
   "outputs": [],
   "source": [
    "#3 What's the shortest trip that happened?\n",
    "\n",
    "# 60, Mezes\n",
    "\n",
    "# SELECT\n",
    "#     min(duration) shortest,\n",
    "#     start_station name_of_station\n",
    "# FROM\n",
    "#     trips"
   ]
  },
  {
   "cell_type": "code",
   "execution_count": null,
   "metadata": {},
   "outputs": [],
   "source": [
    "#4 What is the average trip duration, by end station?\n",
    "\n",
    "# SELECT\n",
    "#     avg(duration) avg_duration,\n",
    "#     end_station name_of_station\n",
    "# FROM\n",
    "#     trips\n",
    "# GROUP BY\n",
    "#     end_station"
   ]
  },
  {
   "cell_type": "markdown",
   "metadata": {},
   "source": [
    "##### Drill: Joins and CTEs"
   ]
  },
  {
   "cell_type": "code",
   "execution_count": null,
   "metadata": {},
   "outputs": [],
   "source": [
    "#1 What are the three longest trips on rainy days?\n",
    "\n",
    "# with rain_days as\n",
    "#     (SELECT \n",
    "#         date \n",
    "#         FROM weather\n",
    "#         WHERE events = 'Rain'\n",
    "#         GROUP BY 1\n",
    "#     )\n",
    "\n",
    "# SELECT \n",
    "#     trip_id,\n",
    "#     duration,\n",
    "#     DATE(start_date) trip_date\n",
    "#     FROM trips\n",
    "#     JOIN rain_days\n",
    "#     on rain_days.Date = trip_date\n",
    "# ORDER BY duration desc\n",
    "# LIMIT 3"
   ]
  },
  {
   "cell_type": "code",
   "execution_count": null,
   "metadata": {},
   "outputs": [],
   "source": [
    "# 2 Which station is full most often?\n",
    "\n",
    "# SELECT \n",
    "# status.station_id,\n",
    "# stations.name,\n",
    "# COUNT(CASE WHEN docks_available=0 then 1 END) empty_count\n",
    "# FROM status\n",
    "# JOIN stations\n",
    "# on stations.station_id = status.station_id\n",
    "# GROUP BY 1\n",
    "# ORDER BY empty_count DESC"
   ]
  },
  {
   "cell_type": "code",
   "execution_count": null,
   "metadata": {},
   "outputs": [],
   "source": [
    "#3 Return a list of stations with a count of number of trips starting at that station but ordered by dock count.\n",
    "\n",
    "# SELECT \n",
    "# start_station,\n",
    "# dockcount,\n",
    "# COUNT(*)\n",
    "# FROM trips\n",
    "# JOIN stations\n",
    "# on stations.name = trips.start_station\n",
    "# GROUP BY 1, 2\n",
    "# ORDER BY 1 DESC"
   ]
  },
  {
   "cell_type": "code",
   "execution_count": null,
   "metadata": {},
   "outputs": [],
   "source": [
    "#4 (Challenge) What's the length of the longest trip for each day it rains anywhere?\n",
    "\n",
    "# with rain_days as\n",
    "#     (SELECT \n",
    "#     date\n",
    "#     FROM weather\n",
    "#     WHERE events = 'Rain'\n",
    "#     GROUP BY 1\n",
    "#     ),\n",
    "\n",
    "# rainy_rides as \n",
    "#     (SELECT \n",
    "#     trip_id\n",
    "#     duration,\n",
    "#     DATE(start_date) ride_date\n",
    "#     FROM trips\n",
    "#     JOIN rain_days\n",
    "#     on rain_days.date = ride_date\n",
    "#     ORDER BY duration DESC \n",
    "#     )\n",
    "\n",
    "# SELECT \n",
    "#     ride_date,\n",
    "#     MAX(duration)\n",
    "#     FROM rainy_rides\n",
    "#     GROUP BY ride_date"
   ]
  },
  {
   "cell_type": "markdown",
   "metadata": {},
   "source": [
    "##### Challenge: Airbnb cities - Boston - July '18"
   ]
  },
  {
   "cell_type": "markdown",
   "metadata": {},
   "source": [
    "What's the most expensive listing? What else can you tell me about the listing?"
   ]
  },
  {
   "cell_type": "code",
   "execution_count": null,
   "metadata": {},
   "outputs": [],
   "source": [
    "# SELECT\n",
    "#     MAX(price),\n",
    "#     *\n",
    "# FROM \n",
    "#     listings"
   ]
  },
  {
   "cell_type": "markdown",
   "metadata": {},
   "source": [
    "        price = 995\n",
    "\n",
    "        id = 20650593\n",
    "\n",
    "        name = The Historic House in the North End/Waterfront\n",
    "\n",
    "        host_id = 27172259\n",
    "\n",
    "        host_name = Travis\n",
    "\n",
    "        neighbourhood = North End\n",
    "\n",
    "        latitude = 42.36813076761684\n",
    "\n",
    "        longitude = -71.05393794734469\n",
    "\n",
    "        room_type = Entire home/apt\n",
    "\n",
    "        minimum_nights = 1\n",
    "\n",
    "        number_of_reviews = 50\n",
    "\n",
    "        last_review = 2018-07-15\n",
    "\n",
    "        reviews_per_month = 4.72\n",
    "\n",
    "        calculated_host_listings_count = 1\n",
    "\n",
    "        availability_365 = 311"
   ]
  },
  {
   "cell_type": "markdown",
   "metadata": {},
   "source": [
    "What neighborhoods seem to be the most popular?"
   ]
  },
  {
   "cell_type": "code",
   "execution_count": null,
   "metadata": {},
   "outputs": [],
   "source": [
    "# SELECT\n",
    "#     COUNT(neighbourhood),\n",
    "#     neighbourhood\n",
    "# FROM \n",
    "#     listings\n",
    "# GROUP BY \n",
    "#     neighbourhood"
   ]
  },
  {
   "cell_type": "markdown",
   "metadata": {},
   "source": [
    "##### ANSWER: Dorchester"
   ]
  },
  {
   "cell_type": "markdown",
   "metadata": {},
   "source": [
    "avg per month listing price across the city"
   ]
  }
 ],
 "metadata": {
  "kernelspec": {
   "display_name": "Python 3",
   "language": "python",
   "name": "python3"
  },
  "language_info": {
   "codemirror_mode": {
    "name": "ipython",
    "version": 3
   },
   "file_extension": ".py",
   "mimetype": "text/x-python",
   "name": "python",
   "nbconvert_exporter": "python",
   "pygments_lexer": "ipython3",
   "version": "3.6.3"
  }
 },
 "nbformat": 4,
 "nbformat_minor": 2
}
