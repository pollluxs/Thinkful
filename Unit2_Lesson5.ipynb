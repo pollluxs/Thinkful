{
 "cells": [
  {
   "cell_type": "code",
   "execution_count": 1,
   "metadata": {},
   "outputs": [],
   "source": [
    "import math\n",
    "\n",
    "from matplotlib import pyplot as plt\n",
    "import numpy as np\n",
    "import pandas as pd\n",
    "import seaborn as sns\n",
    "import statsmodels.formula.api as smf\n",
    "from statsmodels.sandbox.regression.predstd import wls_prediction_std\n",
    "\n",
    "%matplotlib inline\n",
    "sns.set_style('white')"
   ]
  },
  {
   "cell_type": "code",
   "execution_count": 2,
   "metadata": {},
   "outputs": [
    {
     "data": {
      "text/html": [
       "<div>\n",
       "<style scoped>\n",
       "    .dataframe tbody tr th:only-of-type {\n",
       "        vertical-align: middle;\n",
       "    }\n",
       "\n",
       "    .dataframe tbody tr th {\n",
       "        vertical-align: top;\n",
       "    }\n",
       "\n",
       "    .dataframe thead th {\n",
       "        text-align: right;\n",
       "    }\n",
       "</style>\n",
       "<table border=\"1\" class=\"dataframe\">\n",
       "  <thead>\n",
       "    <tr style=\"text-align: right;\">\n",
       "      <th></th>\n",
       "      <th>TV</th>\n",
       "      <th>Radio</th>\n",
       "      <th>Newspaper</th>\n",
       "      <th>Sales</th>\n",
       "    </tr>\n",
       "  </thead>\n",
       "  <tbody>\n",
       "    <tr>\n",
       "      <th>1</th>\n",
       "      <td>230.1</td>\n",
       "      <td>37.8</td>\n",
       "      <td>69.2</td>\n",
       "      <td>22.1</td>\n",
       "    </tr>\n",
       "    <tr>\n",
       "      <th>2</th>\n",
       "      <td>44.5</td>\n",
       "      <td>39.3</td>\n",
       "      <td>45.1</td>\n",
       "      <td>10.4</td>\n",
       "    </tr>\n",
       "    <tr>\n",
       "      <th>3</th>\n",
       "      <td>17.2</td>\n",
       "      <td>45.9</td>\n",
       "      <td>69.3</td>\n",
       "      <td>9.3</td>\n",
       "    </tr>\n",
       "    <tr>\n",
       "      <th>4</th>\n",
       "      <td>151.5</td>\n",
       "      <td>41.3</td>\n",
       "      <td>58.5</td>\n",
       "      <td>18.5</td>\n",
       "    </tr>\n",
       "    <tr>\n",
       "      <th>5</th>\n",
       "      <td>180.8</td>\n",
       "      <td>10.8</td>\n",
       "      <td>58.4</td>\n",
       "      <td>12.9</td>\n",
       "    </tr>\n",
       "  </tbody>\n",
       "</table>\n",
       "</div>"
      ],
      "text/plain": [
       "      TV  Radio  Newspaper  Sales\n",
       "1  230.1   37.8       69.2   22.1\n",
       "2   44.5   39.3       45.1   10.4\n",
       "3   17.2   45.9       69.3    9.3\n",
       "4  151.5   41.3       58.5   18.5\n",
       "5  180.8   10.8       58.4   12.9"
      ]
     },
     "execution_count": 2,
     "metadata": {},
     "output_type": "execute_result"
    }
   ],
   "source": [
    "# Read data into a DataFrame.\n",
    "data_url = 'https://tf-curricula-prod.s3.amazonaws.com/data-science/Advertising.csv'\n",
    "data = pd.read_csv(data_url, index_col=0)\n",
    "data.head()"
   ]
  },
  {
   "cell_type": "code",
   "execution_count": 3,
   "metadata": {},
   "outputs": [],
   "source": [
    "# Write out the model formula.\n",
    "# Your dependent variable on the right, independent variables on the left\n",
    "# Use a ~ to represent an '=' from the functional form\n",
    "linear_formula = 'Sales ~ TV+Radio+Newspaper'\n",
    "\n",
    "# Fit the model to our data using the formula.\n",
    "lm = smf.ols(formula=linear_formula, data=data).fit()"
   ]
  },
  {
   "cell_type": "code",
   "execution_count": 4,
   "metadata": {},
   "outputs": [
    {
     "data": {
      "text/plain": [
       "Intercept    2.938889\n",
       "TV           0.045765\n",
       "Radio        0.188530\n",
       "Newspaper   -0.001037\n",
       "dtype: float64"
      ]
     },
     "execution_count": 4,
     "metadata": {},
     "output_type": "execute_result"
    }
   ],
   "source": [
    "lm.params"
   ]
  },
  {
   "cell_type": "code",
   "execution_count": 5,
   "metadata": {},
   "outputs": [
    {
     "data": {
      "text/plain": [
       "Intercept    1.267295e-17\n",
       "TV           1.509960e-81\n",
       "Radio        1.505339e-54\n",
       "Newspaper    8.599151e-01\n",
       "dtype: float64"
      ]
     },
     "execution_count": 5,
     "metadata": {},
     "output_type": "execute_result"
    }
   ],
   "source": [
    "lm.pvalues"
   ]
  },
  {
   "cell_type": "code",
   "execution_count": 6,
   "metadata": {},
   "outputs": [
    {
     "data": {
      "text/plain": [
       "0.89721063817895219"
      ]
     },
     "execution_count": 6,
     "metadata": {},
     "output_type": "execute_result"
    }
   ],
   "source": [
    "lm.rsquared"
   ]
  },
  {
   "cell_type": "markdown",
   "metadata": {},
   "source": [
    "#### Drill: dropping features and re-fitting"
   ]
  },
  {
   "cell_type": "code",
   "execution_count": 7,
   "metadata": {},
   "outputs": [],
   "source": [
    "linear_formula = 'Sales ~ TV+Radio'\n",
    "lm = smf.ols(formula=linear_formula, data=data).fit()"
   ]
  },
  {
   "cell_type": "code",
   "execution_count": 8,
   "metadata": {},
   "outputs": [
    {
     "data": {
      "text/plain": [
       "Intercept    2.921100\n",
       "TV           0.045755\n",
       "Radio        0.187994\n",
       "dtype: float64"
      ]
     },
     "execution_count": 8,
     "metadata": {},
     "output_type": "execute_result"
    }
   ],
   "source": [
    "lm.params"
   ]
  },
  {
   "cell_type": "code",
   "execution_count": 9,
   "metadata": {},
   "outputs": [
    {
     "data": {
      "text/plain": [
       "Intercept    4.565557e-19\n",
       "TV           5.436980e-82\n",
       "Radio        9.776972e-59\n",
       "dtype: float64"
      ]
     },
     "execution_count": 9,
     "metadata": {},
     "output_type": "execute_result"
    }
   ],
   "source": [
    "lm.pvalues"
   ]
  },
  {
   "cell_type": "code",
   "execution_count": 10,
   "metadata": {},
   "outputs": [
    {
     "data": {
      "text/plain": [
       "0.89719426108289568"
      ]
     },
     "execution_count": 10,
     "metadata": {},
     "output_type": "execute_result"
    }
   ],
   "source": [
    "lm.rsquared"
   ]
  },
  {
   "cell_type": "markdown",
   "metadata": {},
   "source": [
    "The r-squared value remains nearly unchanged, which goes along with the idea that the newspaper variable captured little variance. The parameters on the other variables remain nearly unchanged as well, also supporting that the newspaper feature capture very little variance."
   ]
  },
  {
   "cell_type": "markdown",
   "metadata": {},
   "source": [
    "#### Challenge: Validating a linear regression"
   ]
  },
  {
   "cell_type": "code",
   "execution_count": 1,
   "metadata": {},
   "outputs": [
    {
     "name": "stderr",
     "output_type": "stream",
     "text": [
      "C:\\Users\\polluxs\\Anaconda3\\lib\\site-packages\\statsmodels\\compat\\pandas.py:56: FutureWarning: The pandas.core.datetools module is deprecated and will be removed in a future version. Please use the pandas.tseries module instead.\n",
      "  from pandas.core import datetools\n"
     ]
    }
   ],
   "source": [
    "import pandas as pd\n",
    "import numpy as np\n",
    "import matplotlib.pyplot as plt\n",
    "import seaborn as sns\n",
    "import scipy.stats as stats\n",
    "from sklearn import preprocessing\n",
    "import math\n",
    "from matplotlib.mlab import PCA as mlabPCA\n",
    "from sklearn.preprocessing import StandardScaler\n",
    "from sklearn.decomposition import PCA \n",
    "from sklearn.naive_bayes import BernoulliNB\n",
    "from sklearn.metrics import confusion_matrix\n",
    "from sklearn.model_selection import train_test_split\n",
    "from sklearn.model_selection import cross_val_score\n",
    "from sklearn import linear_model\n",
    "import statsmodels.formula.api as smf\n",
    "import statsmodels.api as sm\n",
    "from statsmodels.sandbox.regression.predstd import wls_prediction_std\n",
    "\n",
    "%matplotlib inline"
   ]
  },
  {
   "cell_type": "code",
   "execution_count": 2,
   "metadata": {},
   "outputs": [],
   "source": [
    "raw_NYC_13 = pd.read_excel(\"Data/NYC_law_enforcement_2013.xls\", header=4)\n",
    "raw_NYC_14 = pd.read_excel(\"Data/NYC_law_enforcement_2014.xls\", header=4)"
   ]
  },
  {
   "cell_type": "code",
   "execution_count": 3,
   "metadata": {},
   "outputs": [],
   "source": [
    "def robbery_binary(df):\n",
    "    if df['Robbery'] > 1:\n",
    "        return 1\n",
    "    else:\n",
    "        return 0"
   ]
  },
  {
   "cell_type": "code",
   "execution_count": 4,
   "metadata": {},
   "outputs": [],
   "source": [
    "def murder_binary(df):\n",
    "    if df['Murder and\\nnonnegligent\\nmanslaughter'] > 1:\n",
    "        return 1\n",
    "    else:\n",
    "        return 0"
   ]
  },
  {
   "cell_type": "code",
   "execution_count": 5,
   "metadata": {},
   "outputs": [],
   "source": [
    "def data_process(raw):\n",
    "    raw['Robbery_binary'] = raw.apply(robbery_binary, axis=1)\n",
    "    raw['Murder_binary'] = raw.apply(murder_binary, axis=1)\n",
    "    raw['Property_Crime'] = raw['Property\\ncrime']\n",
    "    data = pd.DataFrame()\n",
    "    data['Property_Crime'] = raw['Property\\ncrime']\n",
    "    data['Murder'] = raw['Murder_binary']\n",
    "    data['Robbery'] = raw['Robbery_binary']\n",
    "    data['Population'] = raw['Population']\n",
    "    data['Pop_Squared'] = raw['Population']**2\n",
    "    data = data.dropna()\n",
    "    return data"
   ]
  },
  {
   "cell_type": "code",
   "execution_count": 6,
   "metadata": {},
   "outputs": [],
   "source": [
    "data_13 = data_process(raw_NYC_13)\n",
    "data_14 = data_process(raw_NYC_14)"
   ]
  },
  {
   "cell_type": "code",
   "execution_count": 7,
   "metadata": {
    "scrolled": true
   },
   "outputs": [
    {
     "name": "stdout",
     "output_type": "stream",
     "text": [
      "<class 'pandas.core.frame.DataFrame'>\n",
      "Int64Index: 348 entries, 0 to 347\n",
      "Data columns (total 5 columns):\n",
      "Property_Crime    348 non-null float64\n",
      "Murder            348 non-null int64\n",
      "Robbery           348 non-null int64\n",
      "Population        348 non-null float64\n",
      "Pop_Squared       348 non-null float64\n",
      "dtypes: float64(3), int64(2)\n",
      "memory usage: 16.3 KB\n"
     ]
    }
   ],
   "source": [
    "data_13.info()"
   ]
  },
  {
   "cell_type": "code",
   "execution_count": 8,
   "metadata": {},
   "outputs": [],
   "source": [
    "formula_13 = 'Property_Crime ~ Murder + Robbery + Population + Pop_Squared'\n",
    "formula_14 = 'Property_Crime ~ Murder + Robbery + Population + Pop_Squared'"
   ]
  },
  {
   "cell_type": "code",
   "execution_count": null,
   "metadata": {},
   "outputs": [],
   "source": [
    "string formatting "
   ]
  },
  {
   "cell_type": "code",
   "execution_count": 9,
   "metadata": {},
   "outputs": [],
   "source": [
    "lm_13 = smf.ols(formula=formula_13, data=data_13).fit()\n",
    "lm_14 = smf.ols(formula=formula_14, data=data_14).fit()"
   ]
  },
  {
   "cell_type": "code",
   "execution_count": 10,
   "metadata": {},
   "outputs": [
    {
     "name": "stdout",
     "output_type": "stream",
     "text": [
      "Intercept     -1.114575e+02\n",
      "Murder         4.466332e+02\n",
      "Robbery       -1.059008e+02\n",
      "Population     3.281313e-02\n",
      "Pop_Squared   -1.897388e-09\n",
      "dtype: float64 \n",
      "\n",
      "Intercept      1.398762e-03\n",
      "Murder         2.703792e-03\n",
      "Robbery        6.443375e-02\n",
      "Population     2.249819e-80\n",
      "Pop_Squared    2.160587e-29\n",
      "dtype: float64 \n",
      "\n",
      "0.996232242525\n"
     ]
    }
   ],
   "source": [
    "print(lm_13.params, '\\n')\n",
    "print(lm_13.pvalues, '\\n')\n",
    "print(lm_13.rsquared)"
   ]
  },
  {
   "cell_type": "code",
   "execution_count": 11,
   "metadata": {},
   "outputs": [
    {
     "name": "stdout",
     "output_type": "stream",
     "text": [
      "Intercept     -9.612024e+01\n",
      "Murder         4.187766e+02\n",
      "Robbery       -1.514418e+02\n",
      "Population     3.132016e-02\n",
      "Pop_Squared   -1.807959e-09\n",
      "dtype: float64 \n",
      "\n",
      "Intercept      1.757043e-03\n",
      "Murder         1.002207e-03\n",
      "Robbery        5.211611e-03\n",
      "Population     2.388860e-88\n",
      "Pop_Squared    5.769997e-33\n",
      "dtype: float64 \n",
      "\n",
      "0.996130517789\n"
     ]
    }
   ],
   "source": [
    "print(lm_14.params, '\\n')\n",
    "print(lm_14.pvalues, '\\n')\n",
    "print(lm_14.rsquared)"
   ]
  },
  {
   "cell_type": "code",
   "execution_count": 12,
   "metadata": {},
   "outputs": [],
   "source": [
    "variables = ['Murder', 'Robbery', 'Population', 'Pop_Squared']\n",
    "x_13 = data_13[variables]\n",
    "y_13 = data_13['Property_Crime']\n",
    "\n",
    "x_14 = data_14[variables]\n",
    "y_14 = data_14['Property_Crime']"
   ]
  },
  {
   "cell_type": "code",
   "execution_count": 13,
   "metadata": {},
   "outputs": [
    {
     "name": "stdout",
     "output_type": "stream",
     "text": [
      "Coefficients: \n",
      " [  4.46701518e+02  -1.05897820e+02   3.28129444e-02  -1.89739747e-09]\n",
      "Intercept: \n",
      " -111.468922903\n",
      "\n",
      "R-squared:\n",
      "0.996232242853\n",
      "[  8.27296371e-01   4.75683736e-01   2.35651913e-01  -2.40638571e+03\n",
      "   4.73196217e-01]\n",
      "[  7.99448204e-01   8.15193552e-01  -2.54862038e-03   5.78937503e-01\n",
      "   3.15302913e-01   2.75969796e-01  -3.54614386e+03   7.87676156e-01\n",
      "   9.01378151e-01  -9.75555229e-01]\n"
     ]
    }
   ],
   "source": [
    "lin_reg_13 = linear_model.LinearRegression()\n",
    "lin_reg_13.fit(x_13,y_13)\n",
    "\n",
    "print('Coefficients: \\n', lin_reg_13.coef_)\n",
    "print('Intercept: \\n', lin_reg_13.intercept_)\n",
    "print('\\nR-squared:')\n",
    "print(lin_reg_13.score(x_13, y_13))\n",
    "lin_reg_13 = linear_model.LinearRegression()\n",
    "print(cross_val_score(lin_reg_13, x_13, y_13, cv=5))\n",
    "print(cross_val_score(linear_model.LinearRegression(), x_13, y_13, cv=10))"
   ]
  },
  {
   "cell_type": "code",
   "execution_count": 14,
   "metadata": {
    "scrolled": true
   },
   "outputs": [
    {
     "name": "stdout",
     "output_type": "stream",
     "text": [
      "Coefficients: \n",
      " [  4.18773348e+02  -1.51441120e+02   3.13201224e-02  -1.80796415e-09]\n",
      "Intercept: \n",
      " -96.1130401978\n",
      "\n",
      "R-squared:\n",
      "0.996130517889\n",
      "[  7.81591636e-01   4.25285377e-01   1.56892512e-01  -2.85529792e+03\n",
      "   3.49333505e-01]\n",
      "[  8.12134231e-01   7.72335263e-01   3.37665332e-01   4.36036823e-01\n",
      "   4.84006209e-01  -4.57752855e-01  -3.65486880e+03   8.64040395e-01\n",
      "   9.19337216e-01  -1.87515171e+00]\n"
     ]
    }
   ],
   "source": [
    "lin_reg_14 = linear_model.LinearRegression()\n",
    "lin_reg_14.fit(x_14,y_14)\n",
    "\n",
    "print('Coefficients: \\n', lin_reg_14.coef_)\n",
    "print('Intercept: \\n', lin_reg_14.intercept_)\n",
    "print('\\nR-squared:')\n",
    "print(lin_reg_14.score(x_14, y_14))\n",
    "lin_reg_14 = linear_model.LinearRegression()\n",
    "print(cross_val_score(lin_reg_14, x_14, y_14, cv=5))\n",
    "print(cross_val_score(linear_model.LinearRegression(), x_14, y_14, cv=10))"
   ]
  },
  {
   "cell_type": "markdown",
   "metadata": {},
   "source": [
    "Robbery was the only variable that wasn't significant in both sets. For this reason I'll try a model without the Robbery variable"
   ]
  },
  {
   "cell_type": "code",
   "execution_count": 15,
   "metadata": {},
   "outputs": [],
   "source": [
    "variables_adj = ['Murder', 'Population', 'Pop_Squared']\n",
    "x_13 = data_13[variables_adj]\n",
    "y_13 = data_13['Property_Crime']\n",
    "\n",
    "x_14 = data_14[variables_adj]\n",
    "y_14 = data_14['Property_Crime']"
   ]
  },
  {
   "cell_type": "code",
   "execution_count": 16,
   "metadata": {},
   "outputs": [
    {
     "name": "stdout",
     "output_type": "stream",
     "text": [
      "Coefficients: \n",
      " [  4.51133065e+02   3.19132315e-02  -1.79134829e-09]\n",
      "Intercept: \n",
      " -143.821097214\n",
      "\n",
      "R-squared:\n",
      "0.996194439435\n",
      "[  8.25016126e-01   5.15533479e-01   2.42210288e-01  -1.82989324e+03\n",
      "   4.87119080e-01]\n",
      "[  8.10012548e-01   8.14028402e-01   1.91174636e-01   5.81409690e-01\n",
      "   3.44478642e-01   2.57992289e-01  -2.82195306e+03   7.83659486e-01\n",
      "   8.96113501e-01  -8.84548800e-01]\n"
     ]
    }
   ],
   "source": [
    "lin_reg_13 = linear_model.LinearRegression()\n",
    "lin_reg_13.fit(x_13,y_13)\n",
    "\n",
    "print('Coefficients: \\n', lin_reg_13.coef_)\n",
    "print('Intercept: \\n', lin_reg_13.intercept_)\n",
    "print('\\nR-squared:')\n",
    "print(lin_reg_13.score(x_13, y_13))\n",
    "lin_reg_13 = linear_model.LinearRegression()\n",
    "print(cross_val_score(lin_reg_13, x_13, y_13, cv=5))\n",
    "print(cross_val_score(linear_model.LinearRegression(), x_13, y_13, cv=10))"
   ]
  },
  {
   "cell_type": "code",
   "execution_count": 17,
   "metadata": {},
   "outputs": [
    {
     "name": "stdout",
     "output_type": "stream",
     "text": [
      "Coefficients: \n",
      " [  4.06057808e+02   3.00425555e-02  -1.65857426e-09]\n",
      "Intercept: \n",
      " -136.799767167\n",
      "\n",
      "R-squared:\n",
      "0.996046307667\n",
      "[  7.77667093e-01   3.91223262e-01   2.06010530e-01  -2.28427336e+03\n",
      "   3.92288382e-01]\n",
      "[  8.23887512e-01   7.69034437e-01   3.45233965e-01   4.02449274e-01\n",
      "   5.45724852e-01  -4.49433622e-01  -2.98649749e+03   8.53833531e-01\n",
      "   9.10237195e-01  -1.60969813e+00]\n"
     ]
    }
   ],
   "source": [
    "lin_reg_14 = linear_model.LinearRegression()\n",
    "lin_reg_14.fit(x_14,y_14)\n",
    "\n",
    "print('Coefficients: \\n', lin_reg_14.coef_)\n",
    "print('Intercept: \\n', lin_reg_14.intercept_)\n",
    "print('\\nR-squared:')\n",
    "print(lin_reg_14.score(x_14, y_14))\n",
    "lin_reg_14 = linear_model.LinearRegression()\n",
    "print(cross_val_score(lin_reg_14, x_14, y_14, cv=5))\n",
    "print(cross_val_score(linear_model.LinearRegression(), x_14, y_14, cv=10))"
   ]
  },
  {
   "cell_type": "code",
   "execution_count": 18,
   "metadata": {},
   "outputs": [],
   "source": [
    "formula_13_adjusted = 'Property_Crime ~ Murder + Population + Pop_Squared'\n",
    "formula_14_adjusted = 'Property_Crime ~ Murder + Population + Pop_Squared'"
   ]
  },
  {
   "cell_type": "code",
   "execution_count": 19,
   "metadata": {},
   "outputs": [],
   "source": [
    "lm_13_adjusted = smf.ols(formula=formula_13_adjusted, data=data_13).fit()\n",
    "lm_14_adjusted = smf.ols(formula=formula_14_adjusted, data=data_14).fit()"
   ]
  },
  {
   "cell_type": "code",
   "execution_count": 20,
   "metadata": {},
   "outputs": [
    {
     "name": "stdout",
     "output_type": "stream",
     "text": [
      "Intercept     -1.438033e+02\n",
      "Murder         4.511465e+02\n",
      "Population     3.191296e-02\n",
      "Pop_Squared   -1.791333e-09\n",
      "dtype: float64 \n",
      "\n",
      "Intercept      2.428873e-06\n",
      "Murder         2.540970e-03\n",
      "Population     8.627855e-85\n",
      "Pop_Squared    4.611126e-30\n",
      "dtype: float64 \n",
      "\n",
      "0.996194439361\n"
     ]
    }
   ],
   "source": [
    "print(lm_13_adjusted.params, '\\n')\n",
    "print(lm_13_adjusted.pvalues, '\\n')\n",
    "print(lm_13_adjusted.rsquared)"
   ]
  },
  {
   "cell_type": "code",
   "execution_count": 21,
   "metadata": {},
   "outputs": [
    {
     "name": "stdout",
     "output_type": "stream",
     "text": [
      "Intercept     -1.368029e+02\n",
      "Murder         4.060707e+02\n",
      "Population     3.004235e-02\n",
      "Pop_Squared   -1.658536e-09\n",
      "dtype: float64 \n",
      "\n",
      "Intercept      7.033114e-07\n",
      "Murder         1.558870e-03\n",
      "Population     8.752716e-92\n",
      "Pop_Squared    2.702132e-32\n",
      "dtype: float64 \n",
      "\n",
      "0.996046307606\n"
     ]
    }
   ],
   "source": [
    "print(lm_14_adjusted.params, '\\n')\n",
    "print(lm_14_adjusted.pvalues, '\\n')\n",
    "print(lm_14_adjusted.rsquared)"
   ]
  },
  {
   "cell_type": "markdown",
   "metadata": {},
   "source": [
    "Removing the robbery had almost no impact on the other features as well as the r-squared values in both the 2013 and 2014 datasets for NYC therefore, I would look to leave the variable out."
   ]
  },
  {
   "cell_type": "code",
   "execution_count": 31,
   "metadata": {},
   "outputs": [],
   "source": [
    "import math\n",
    "import warnings\n",
    "\n",
    "from matplotlib import pyplot as plt\n",
    "import numpy as np\n",
    "import pandas as pd\n",
    "import seaborn as sns\n",
    "from sklearn import linear_model\n",
    "from sklearn.cross_decomposition import PLSRegression\n",
    "\n",
    "%matplotlib inline\n",
    "sns.set_style('white')\n",
    "\n",
    "# Suppress annoying harmless error.\n",
    "warnings.filterwarnings(\n",
    "    action=\"ignore\",\n",
    "    module=\"scipy\",\n",
    "    message=\"^internal gelsd\"\n",
    ")"
   ]
  },
  {
   "cell_type": "code",
   "execution_count": 35,
   "metadata": {},
   "outputs": [
    {
     "data": {
      "image/png": "[encoded data removed]",
      "text/plain": [
       "<matplotlib.figure.Figure at 0x261574e7940>"
      ]
     },
     "metadata": {},
     "output_type": "display_data"
    }
   ],
   "source": [
    "# Number of datapoints in outcome.\n",
    "n = 1000\n",
    "\n",
    "# Number of features.\n",
    "p = 10\n",
    "\n",
    "# Create random normally distributed data for parameters.\n",
    "X = np.random.normal(size=n * p).reshape((n, p))\n",
    "\n",
    "# Create normally distributed outcome related to parameters but with noise.\n",
    "y = X[:, 0] + 2 * X[:, 1] + np.random.normal(size=n * 1) + 5\n",
    "\n",
    "\n",
    "\n",
    "# Check out correlations. First column is the outcome.\n",
    "f, ax = plt.subplots(figsize=(12, 9))\n",
    "corrmat = pd.DataFrame(np.insert(X, 0, y, axis=1)).corr()\n",
    "\n",
    "# Draw the heatmap using seaborn.\n",
    "sns.heatmap(corrmat, vmax=.8, square=True)\n",
    "plt.show()"
   ]
  },
  {
   "cell_type": "code",
   "execution_count": 36,
   "metadata": {},
   "outputs": [
    {
     "name": "stdout",
     "output_type": "stream",
     "text": [
      "R-squared regression: 0.838121398771\n",
      "R-squared PLSR: 0.838121299199\n"
     ]
    },
    {
     "data": {
      "image/png": "[encoded data removed]",
      "text/plain": [
       "<matplotlib.figure.Figure at 0x26155980f98>"
      ]
     },
     "metadata": {},
     "output_type": "display_data"
    }
   ],
   "source": [
    "# Fit a linear model with all 10 features.\n",
    "regr = linear_model.LinearRegression()\n",
    "regr.fit(X, y)\n",
    "\n",
    "# Save predicted values.\n",
    "Y_pred = regr.predict(X)\n",
    "print('R-squared regression:', regr.score(X, y))\n",
    "\n",
    "# Fit a linear model using Partial Least Squares Regression.\n",
    "# Reduce feature space to 3 dimensions.\n",
    "pls1 = PLSRegression(n_components=3)\n",
    "\n",
    "# Reduce X to R(X) and regress on y.\n",
    "pls1.fit(X, y)\n",
    "\n",
    "# Save predicted values.\n",
    "Y_PLS_pred = pls1.predict(X)\n",
    "print('R-squared PLSR:', pls1.score(X, y))\n",
    "\n",
    "# Compare the predictions of the two models\n",
    "plt.scatter(Y_pred,Y_PLS_pred) \n",
    "plt.xlabel('Predicted by original 10 features')\n",
    "plt.ylabel('Predicted by 3 features')\n",
    "plt.title('Comparing LR and PLSR predictions')\n",
    "plt.show()"
   ]
  },
  {
   "cell_type": "code",
   "execution_count": 37,
   "metadata": {},
   "outputs": [
    {
     "name": "stdout",
     "output_type": "stream",
     "text": [
      "R-squared regression: 0.838121398771\n",
      "R-squared PLSR: 0.83812139877\n"
     ]
    },
    {
     "data": {
      "image/png": "[encoded data removed]",
      "text/plain": [
       "<matplotlib.figure.Figure at 0x26155980a20>"
      ]
     },
     "metadata": {},
     "output_type": "display_data"
    }
   ],
   "source": [
    "# Fit a linear model with all 10 features.\n",
    "regr = linear_model.LinearRegression()\n",
    "regr.fit(X, y)\n",
    "\n",
    "# Save predicted values.\n",
    "Y_pred = regr.predict(X)\n",
    "print('R-squared regression:', regr.score(X, y))\n",
    "\n",
    "# Fit a linear model using Partial Least Squares Regression.\n",
    "# Increas feature space to 5 dimensions.\n",
    "pls2 = PLSRegression(n_components=5)\n",
    "\n",
    "# Reduce X to R(X) and regress on y.\n",
    "pls2.fit(X, y)\n",
    "\n",
    "# Save predicted values.\n",
    "Y_PLS_pred = pls2.predict(X)\n",
    "print('R-squared PLSR:', pls2.score(X, y))\n",
    "\n",
    "# Compare the predictions of the two models\n",
    "plt.scatter(Y_pred,Y_PLS_pred) \n",
    "plt.xlabel('Predicted by original 10 features')\n",
    "plt.ylabel('Predicted by 5 features')\n",
    "plt.title('Comparing LR and PLSR predictions')\n",
    "plt.show()"
   ]
  },
  {
   "cell_type": "markdown",
   "metadata": {},
   "source": [
    "Changing the number of components doesn't seem to have much of an impact from 3 to 5, therefore you would want to stick with 3 to reduce the features"
   ]
  },
  {
   "cell_type": "code",
   "execution_count": 38,
   "metadata": {},
   "outputs": [
    {
     "name": "stdout",
     "output_type": "stream",
     "text": [
      "R-squared regression: 0.838121398771\n",
      "R-squared PLSR: 0.838094161374\n"
     ]
    },
    {
     "data": {
      "image/png": "[encoded data removed]",
      "text/plain": [
       "<matplotlib.figure.Figure at 0x261575c2cc0>"
      ]
     },
     "metadata": {},
     "output_type": "display_data"
    }
   ],
   "source": [
    "# Fit a linear model with all 10 features.\n",
    "regr = linear_model.LinearRegression()\n",
    "regr.fit(X, y)\n",
    "\n",
    "# Save predicted values.\n",
    "Y_pred = regr.predict(X)\n",
    "print('R-squared regression:', regr.score(X, y))\n",
    "\n",
    "# Fit a linear model using Partial Least Squares Regression.\n",
    "# Reduce feature space to 2 dimensions.\n",
    "pls3 = PLSRegression(n_components=2)\n",
    "\n",
    "# Reduce X to R(X) and regress on y.\n",
    "pls3.fit(X, y)\n",
    "\n",
    "# Save predicted values.\n",
    "Y_PLS_pred = pls2.predict(X)\n",
    "print('R-squared PLSR:', pls3.score(X, y))\n",
    "\n",
    "# Compare the predictions of the two models\n",
    "plt.scatter(Y_pred,Y_PLS_pred) \n",
    "plt.xlabel('Predicted by original 10 features')\n",
    "plt.ylabel('Predicted by 2 features')\n",
    "plt.title('Comparing LR and PLSR predictions')\n",
    "plt.show()"
   ]
  },
  {
   "cell_type": "markdown",
   "metadata": {},
   "source": [
    "Reducing to 2 components lowers the r-squared so it seems that the optimal number of components is 3"
   ]
  },
  {
   "cell_type": "code",
   "execution_count": null,
   "metadata": {},
   "outputs": [],
   "source": []
  },
  {
   "cell_type": "code",
   "execution_count": 39,
   "metadata": {},
   "outputs": [],
   "source": [
    "import warnings\n",
    "\n",
    "import numpy as np\n",
    "import matplotlib.pyplot as plt\n",
    "from sklearn import linear_model\n",
    "\n",
    "# Suppress annoying harmless error.\n",
    "warnings.filterwarnings(\n",
    "    action=\"ignore\",\n",
    "    module=\"scipy\",\n",
    "    message=\"^internal gelsd\"\n",
    ")"
   ]
  },
  {
   "cell_type": "code",
   "execution_count": 40,
   "metadata": {},
   "outputs": [
    {
     "name": "stdout",
     "output_type": "stream",
     "text": [
      "\n",
      "Coefficients from sklearn: \n",
      " [[ 1.97202649]]\n",
      "\n",
      "Intercept from sklearn: \n",
      " [ 0.50681653]\n",
      "\n",
      "Coefficients from gradient descent algorithm: \n",
      " 1.97202271407\n",
      "\n",
      "Intercept from gradient descent algorithm: \n",
      " 0.506792847504\n"
     ]
    },
    {
     "data": {
      "image/png": "[encoded data removed]",
      "text/plain": [
       "<matplotlib.figure.Figure at 0x26157525d30>"
      ]
     },
     "metadata": {},
     "output_type": "display_data"
    }
   ],
   "source": [
    "## Cost function for the linear regression that we will try to optimize.\n",
    "def LR_cost_function (alpha, beta, x, y):\n",
    "    '''Return the cost for a given line and data.\n",
    "    \n",
    "    Alpha and beta are the coeficients that describe the fit line line, while\n",
    "    x and y are lists or arrays with the x and y value of each data point.\n",
    "    '''\n",
    "    error = 0\n",
    "    n = len(x)\n",
    "    for i in range(n):\n",
    "        point_error = (y[i] - (alpha + beta * x[i])) ** 2\n",
    "        error += point_error\n",
    "    return error / n\n",
    "\n",
    "\n",
    "# Function we'll call each iteration (or step) of the gradient algorithm.\n",
    "def step (alpha_cur, beta_cur, learning_rate, x, y):\n",
    "    '''Move downhill from a current cost function to a new, more optimal one.'''\n",
    "    alpha = 0\n",
    "    beta = 0\n",
    "    n = len(x)\n",
    "    for i in range(n):\n",
    "        # Partial derivative of the intercept.\n",
    "        point_alpha = -(2 / n) * (y[i] - ((alpha_cur + beta_cur * x[i])))\n",
    "        alpha += point_alpha\n",
    "        \n",
    "        # Partial derivative of the slope.\n",
    "        point_beta = -(2 / n) * x[i] * (y[i] - ((alpha_cur + beta_cur * x[i])))\n",
    "        beta += point_beta\n",
    "        \n",
    "    new_alpha = alpha_cur - learning_rate * alpha \n",
    "    new_beta = beta_cur - learning_rate * beta\n",
    "    return [new_alpha, new_beta]\n",
    "\n",
    "# These constants correspond to the decision-points described above.\n",
    "# How many steps to take.\n",
    "stop = 1000\n",
    "\n",
    "# How far to move with each step.\n",
    "learning_rate = .005\n",
    "\n",
    "# Starting values for intercept and slope \n",
    "alpha_start = 0\n",
    "beta_start = 0\n",
    "\n",
    "# Time to make some data!\n",
    "x = np.random.normal(0, 1, 100)\n",
    "y = x * 2 + np.random.sample(100)\n",
    "\n",
    "# Fit an true minimum regression using solved equations.\n",
    "regr = linear_model.LinearRegression()\n",
    "regr.fit(x.reshape(-1, 1), y.reshape(-1, 1))\n",
    "\n",
    "print('\\nCoefficients from sklearn: \\n', regr.coef_)\n",
    "print('\\nIntercept from sklearn: \\n', regr.intercept_)\n",
    "\n",
    "\n",
    "# Now fit an iteratively optimized regression using your custom gradient\n",
    "# descent algorithm.\n",
    "\n",
    "# Storing each iteration to inspect later.\n",
    "all_error=[]\n",
    "\n",
    "# Provide starting values.\n",
    "alpha = alpha_start\n",
    "beta = beta_start\n",
    "\n",
    "#Run the algorithm.\n",
    "for iter in range(stop):\n",
    "    \n",
    "    # Take a step, assigning the results of our step function to feed into\n",
    "    # the next step.\n",
    "    alpha, beta = step(alpha, beta, learning_rate, x, y)\n",
    "    \n",
    "    # Calculate the error.\n",
    "    error = LR_cost_function(alpha, beta, x, y)\n",
    "    \n",
    "    \n",
    "    # Store the error to instpect later.\n",
    "    all_error.append(error)\n",
    "\n",
    "    \n",
    "print('\\nCoefficients from gradient descent algorithm: \\n', beta)\n",
    "print('\\nIntercept from gradient descent algorithm: \\n', alpha)\n",
    "\n",
    "plt.plot(all_error, 'o', ms=.4)\n",
    "plt.xlabel('Iteration')\n",
    "plt.ylabel('Error')\n",
    "plt.title('Error scores for each iteration')\n",
    "plt.show()"
   ]
  },
  {
   "cell_type": "code",
   "execution_count": null,
   "metadata": {},
   "outputs": [],
   "source": []
  },
  {
   "cell_type": "code",
   "execution_count": 56,
   "metadata": {},
   "outputs": [
    {
     "name": "stdout",
     "output_type": "stream",
     "text": [
      "\n",
      "Coefficients from sklearn: \n",
      " [[ 1.94095934]]\n",
      "\n",
      "Intercept from sklearn: \n",
      " [ 0.52879198]\n",
      "\n",
      "Coefficients from gradient descent algorithm: \n",
      " 1.71070706688\n",
      "\n",
      "Intercept from gradient descent algorithm: \n",
      " 0.469774431633\n"
     ]
    },
    {
     "data": {
      "image/png": "[encoded data removed]",
      "text/plain": [
       "<matplotlib.figure.Figure at 0x2615778cda0>"
      ]
     },
     "metadata": {},
     "output_type": "display_data"
    }
   ],
   "source": [
    "## Cost function for the linear regression that we will try to optimize.\n",
    "def LR_cost_function (alpha, beta, x, y):\n",
    "    '''Return the cost for a given line and data.\n",
    "    \n",
    "    Alpha and beta are the coeficients that describe the fit line line, while\n",
    "    x and y are lists or arrays with the x and y value of each data point.\n",
    "    '''\n",
    "    error = 0\n",
    "    n = len(x)\n",
    "    for i in range(n):\n",
    "        point_error = (y[i] - (alpha + beta * x[i])) ** 2\n",
    "        error += point_error\n",
    "    return error / n\n",
    "\n",
    "\n",
    "# Function we'll call each iteration (or step) of the gradient algorithm.\n",
    "def step (alpha_cur, beta_cur, learning_rate, x, y):\n",
    "    '''Move downhill from a current cost function to a new, more optimal one.'''\n",
    "    alpha = 0\n",
    "    beta = 0\n",
    "    n = len(x)\n",
    "    for i in range(n):\n",
    "        # Partial derivative of the intercept.\n",
    "        point_alpha = -(2 / n) * (y[i] - ((alpha_cur + beta_cur * x[i])))\n",
    "        alpha += point_alpha\n",
    "        \n",
    "        # Partial derivative of the slope.\n",
    "        point_beta = -(2 / n) * x[i] * (y[i] - ((alpha_cur + beta_cur * x[i])))\n",
    "        beta += point_beta\n",
    "        \n",
    "    new_alpha = alpha_cur - learning_rate * alpha \n",
    "    new_beta = beta_cur - learning_rate * beta\n",
    "    return [new_alpha, new_beta]\n",
    "\n",
    "# These constants correspond to the decision-points described above.\n",
    "# How many steps to take.\n",
    "stop = 1000\n",
    "\n",
    "# How far to move with each step.\n",
    "learning_rate = .005\n",
    "\n",
    "# Starting values for intercept and slope \n",
    "alpha_start = 0\n",
    "beta_start = 0\n",
    "\n",
    "# Time to make some data!\n",
    "x = np.random.normal(0, 1, 100)\n",
    "y = x * 2 + np.random.sample(100)\n",
    "\n",
    "# Fit an true minimum regression using solved equations.\n",
    "regr = linear_model.LinearRegression()\n",
    "regr.fit(x.reshape(-1, 1), y.reshape(-1, 1))\n",
    "\n",
    "print('\\nCoefficients from sklearn: \\n', regr.coef_)\n",
    "print('\\nIntercept from sklearn: \\n', regr.intercept_)\n",
    "\n",
    "\n",
    "# Now fit an iteratively optimized regression using your custom gradient\n",
    "# descent algorithm.\n",
    "\n",
    "# Storing each iteration to inspect later.\n",
    "all_error=[]\n",
    "\n",
    "# Provide starting values.\n",
    "alpha = alpha_start\n",
    "beta = beta_start\n",
    "\n",
    "#Run the algorithm.\n",
    "for iter in range(stop):\n",
    "    \n",
    "    # Take a step, assigning the results of our step function to feed into\n",
    "    # the next step.\n",
    "    alpha, beta = step(alpha, beta, learning_rate, x, y)\n",
    "    \n",
    "    # Calculate the error.\n",
    "    error = LR_cost_function(alpha, beta, x, y)\n",
    "    \n",
    "    # Store the error to instpect later.\n",
    "    all_error.append(error)\n",
    "\n",
    "    \n",
    "    if len(all_error)<2:\n",
    "        continue\n",
    "    elif all_error[-2] - all_error[-1] < .001:\n",
    "        break\n",
    "    else:\n",
    "        continue\n",
    "        \n",
    "    \n",
    "print('\\nCoefficients from gradient descent algorithm: \\n', beta)\n",
    "print('\\nIntercept from gradient descent algorithm: \\n', alpha)\n",
    "\n",
    "plt.plot(all_error, 'o', ms=.4)\n",
    "plt.xlabel('Iteration')\n",
    "plt.ylabel('Error')\n",
    "plt.title('Error scores for each iteration')\n",
    "plt.show()"
   ]
  },
  {
   "cell_type": "code",
   "execution_count": 57,
   "metadata": {},
   "outputs": [
    {
     "data": {
      "text/plain": [
       "228"
      ]
     },
     "execution_count": 57,
     "metadata": {},
     "output_type": "execute_result"
    }
   ],
   "source": [
    "len(all_error)"
   ]
  }
 ],
 "metadata": {
  "kernelspec": {
   "display_name": "Python 3",
   "language": "python",
   "name": "python3"
  },
  "language_info": {
   "codemirror_mode": {
    "name": "ipython",
    "version": 3
   },
   "file_extension": ".py",
   "mimetype": "text/x-python",
   "name": "python",
   "nbconvert_exporter": "python",
   "pygments_lexer": "ipython3",
   "version": "3.6.3"
  }
 },
 "nbformat": 4,
 "nbformat_minor": 2
}
