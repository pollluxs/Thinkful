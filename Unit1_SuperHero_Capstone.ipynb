{
 "cells": [
  {
   "cell_type": "code",
   "execution_count": 1,
   "metadata": {},
   "outputs": [],
   "source": [
    "import pandas as pd\n",
    "import numpy as np\n",
    "import seaborn as sns\n",
    "from matplotlib import pyplot as plt\n",
    "from scipy import stats\n",
    "%matplotlib inline"
   ]
  },
  {
   "cell_type": "code",
   "execution_count": 2,
   "metadata": {},
   "outputs": [],
   "source": [
    "data = pd.read_csv('Data/Superhero/charcters_stats.csv')"
   ]
  },
  {
   "cell_type": "code",
   "execution_count": 3,
   "metadata": {},
   "outputs": [
    {
     "data": {
      "text/html": [
       "<div>\n",
       "<style scoped>\n",
       "    .dataframe tbody tr th:only-of-type {\n",
       "        vertical-align: middle;\n",
       "    }\n",
       "\n",
       "    .dataframe tbody tr th {\n",
       "        vertical-align: top;\n",
       "    }\n",
       "\n",
       "    .dataframe thead th {\n",
       "        text-align: right;\n",
       "    }\n",
       "</style>\n",
       "<table border=\"1\" class=\"dataframe\">\n",
       "  <thead>\n",
       "    <tr style=\"text-align: right;\">\n",
       "      <th></th>\n",
       "      <th>Name</th>\n",
       "      <th>Alignment</th>\n",
       "      <th>Intelligence</th>\n",
       "      <th>Strength</th>\n",
       "      <th>Speed</th>\n",
       "      <th>Durability</th>\n",
       "      <th>Power</th>\n",
       "      <th>Combat</th>\n",
       "      <th>Total</th>\n",
       "    </tr>\n",
       "  </thead>\n",
       "  <tbody>\n",
       "    <tr>\n",
       "      <th>0</th>\n",
       "      <td>3-D Man</td>\n",
       "      <td>good</td>\n",
       "      <td>50</td>\n",
       "      <td>31</td>\n",
       "      <td>43</td>\n",
       "      <td>32</td>\n",
       "      <td>25</td>\n",
       "      <td>52</td>\n",
       "      <td>233</td>\n",
       "    </tr>\n",
       "    <tr>\n",
       "      <th>1</th>\n",
       "      <td>A-Bomb</td>\n",
       "      <td>good</td>\n",
       "      <td>38</td>\n",
       "      <td>100</td>\n",
       "      <td>17</td>\n",
       "      <td>80</td>\n",
       "      <td>17</td>\n",
       "      <td>64</td>\n",
       "      <td>316</td>\n",
       "    </tr>\n",
       "    <tr>\n",
       "      <th>2</th>\n",
       "      <td>Abe Sapien</td>\n",
       "      <td>good</td>\n",
       "      <td>88</td>\n",
       "      <td>14</td>\n",
       "      <td>35</td>\n",
       "      <td>42</td>\n",
       "      <td>35</td>\n",
       "      <td>85</td>\n",
       "      <td>299</td>\n",
       "    </tr>\n",
       "    <tr>\n",
       "      <th>3</th>\n",
       "      <td>Abin Sur</td>\n",
       "      <td>good</td>\n",
       "      <td>50</td>\n",
       "      <td>90</td>\n",
       "      <td>53</td>\n",
       "      <td>64</td>\n",
       "      <td>84</td>\n",
       "      <td>65</td>\n",
       "      <td>406</td>\n",
       "    </tr>\n",
       "    <tr>\n",
       "      <th>4</th>\n",
       "      <td>Abomination</td>\n",
       "      <td>bad</td>\n",
       "      <td>63</td>\n",
       "      <td>80</td>\n",
       "      <td>53</td>\n",
       "      <td>90</td>\n",
       "      <td>55</td>\n",
       "      <td>95</td>\n",
       "      <td>436</td>\n",
       "    </tr>\n",
       "    <tr>\n",
       "      <th>5</th>\n",
       "      <td>Abraxas</td>\n",
       "      <td>bad</td>\n",
       "      <td>88</td>\n",
       "      <td>100</td>\n",
       "      <td>83</td>\n",
       "      <td>99</td>\n",
       "      <td>100</td>\n",
       "      <td>56</td>\n",
       "      <td>526</td>\n",
       "    </tr>\n",
       "    <tr>\n",
       "      <th>6</th>\n",
       "      <td>Adam Monroe</td>\n",
       "      <td>good</td>\n",
       "      <td>63</td>\n",
       "      <td>10</td>\n",
       "      <td>12</td>\n",
       "      <td>100</td>\n",
       "      <td>71</td>\n",
       "      <td>64</td>\n",
       "      <td>320</td>\n",
       "    </tr>\n",
       "    <tr>\n",
       "      <th>7</th>\n",
       "      <td>Adam Strange</td>\n",
       "      <td>good</td>\n",
       "      <td>1</td>\n",
       "      <td>1</td>\n",
       "      <td>1</td>\n",
       "      <td>1</td>\n",
       "      <td>0</td>\n",
       "      <td>1</td>\n",
       "      <td>5</td>\n",
       "    </tr>\n",
       "    <tr>\n",
       "      <th>8</th>\n",
       "      <td>Agent  13</td>\n",
       "      <td>good</td>\n",
       "      <td>1</td>\n",
       "      <td>1</td>\n",
       "      <td>1</td>\n",
       "      <td>1</td>\n",
       "      <td>0</td>\n",
       "      <td>1</td>\n",
       "      <td>5</td>\n",
       "    </tr>\n",
       "    <tr>\n",
       "      <th>9</th>\n",
       "      <td>Agent Bob</td>\n",
       "      <td>good</td>\n",
       "      <td>10</td>\n",
       "      <td>8</td>\n",
       "      <td>13</td>\n",
       "      <td>5</td>\n",
       "      <td>5</td>\n",
       "      <td>20</td>\n",
       "      <td>61</td>\n",
       "    </tr>\n",
       "    <tr>\n",
       "      <th>10</th>\n",
       "      <td>Agent Zero</td>\n",
       "      <td>good</td>\n",
       "      <td>75</td>\n",
       "      <td>28</td>\n",
       "      <td>38</td>\n",
       "      <td>80</td>\n",
       "      <td>72</td>\n",
       "      <td>95</td>\n",
       "      <td>388</td>\n",
       "    </tr>\n",
       "    <tr>\n",
       "      <th>11</th>\n",
       "      <td>Air-Walker</td>\n",
       "      <td>bad</td>\n",
       "      <td>50</td>\n",
       "      <td>85</td>\n",
       "      <td>100</td>\n",
       "      <td>85</td>\n",
       "      <td>100</td>\n",
       "      <td>40</td>\n",
       "      <td>460</td>\n",
       "    </tr>\n",
       "    <tr>\n",
       "      <th>12</th>\n",
       "      <td>Alan Scott</td>\n",
       "      <td>good</td>\n",
       "      <td>63</td>\n",
       "      <td>80</td>\n",
       "      <td>23</td>\n",
       "      <td>90</td>\n",
       "      <td>98</td>\n",
       "      <td>32</td>\n",
       "      <td>386</td>\n",
       "    </tr>\n",
       "    <tr>\n",
       "      <th>13</th>\n",
       "      <td>Alex Woolsly</td>\n",
       "      <td>good</td>\n",
       "      <td>1</td>\n",
       "      <td>1</td>\n",
       "      <td>1</td>\n",
       "      <td>1</td>\n",
       "      <td>0</td>\n",
       "      <td>1</td>\n",
       "      <td>5</td>\n",
       "    </tr>\n",
       "    <tr>\n",
       "      <th>14</th>\n",
       "      <td>Alfred Pennyworth</td>\n",
       "      <td>good</td>\n",
       "      <td>63</td>\n",
       "      <td>10</td>\n",
       "      <td>17</td>\n",
       "      <td>10</td>\n",
       "      <td>7</td>\n",
       "      <td>55</td>\n",
       "      <td>162</td>\n",
       "    </tr>\n",
       "    <tr>\n",
       "      <th>15</th>\n",
       "      <td>Allan Quatermain</td>\n",
       "      <td>good</td>\n",
       "      <td>1</td>\n",
       "      <td>1</td>\n",
       "      <td>1</td>\n",
       "      <td>1</td>\n",
       "      <td>0</td>\n",
       "      <td>1</td>\n",
       "      <td>5</td>\n",
       "    </tr>\n",
       "    <tr>\n",
       "      <th>16</th>\n",
       "      <td>Amazo</td>\n",
       "      <td>bad</td>\n",
       "      <td>75</td>\n",
       "      <td>100</td>\n",
       "      <td>100</td>\n",
       "      <td>100</td>\n",
       "      <td>100</td>\n",
       "      <td>100</td>\n",
       "      <td>575</td>\n",
       "    </tr>\n",
       "    <tr>\n",
       "      <th>17</th>\n",
       "      <td>Ammo</td>\n",
       "      <td>bad</td>\n",
       "      <td>1</td>\n",
       "      <td>1</td>\n",
       "      <td>1</td>\n",
       "      <td>1</td>\n",
       "      <td>0</td>\n",
       "      <td>1</td>\n",
       "      <td>5</td>\n",
       "    </tr>\n",
       "    <tr>\n",
       "      <th>18</th>\n",
       "      <td>Ando Masahashi</td>\n",
       "      <td>good</td>\n",
       "      <td>1</td>\n",
       "      <td>1</td>\n",
       "      <td>1</td>\n",
       "      <td>1</td>\n",
       "      <td>0</td>\n",
       "      <td>1</td>\n",
       "      <td>5</td>\n",
       "    </tr>\n",
       "    <tr>\n",
       "      <th>19</th>\n",
       "      <td>Angel</td>\n",
       "      <td>good</td>\n",
       "      <td>63</td>\n",
       "      <td>13</td>\n",
       "      <td>46</td>\n",
       "      <td>64</td>\n",
       "      <td>17</td>\n",
       "      <td>42</td>\n",
       "      <td>245</td>\n",
       "    </tr>\n",
       "    <tr>\n",
       "      <th>20</th>\n",
       "      <td>Angel Salvadore</td>\n",
       "      <td>good</td>\n",
       "      <td>38</td>\n",
       "      <td>10</td>\n",
       "      <td>28</td>\n",
       "      <td>28</td>\n",
       "      <td>46</td>\n",
       "      <td>60</td>\n",
       "      <td>210</td>\n",
       "    </tr>\n",
       "    <tr>\n",
       "      <th>21</th>\n",
       "      <td>Angela</td>\n",
       "      <td>bad</td>\n",
       "      <td>1</td>\n",
       "      <td>1</td>\n",
       "      <td>1</td>\n",
       "      <td>1</td>\n",
       "      <td>0</td>\n",
       "      <td>1</td>\n",
       "      <td>5</td>\n",
       "    </tr>\n",
       "    <tr>\n",
       "      <th>22</th>\n",
       "      <td>Animal Man</td>\n",
       "      <td>good</td>\n",
       "      <td>56</td>\n",
       "      <td>48</td>\n",
       "      <td>47</td>\n",
       "      <td>85</td>\n",
       "      <td>73</td>\n",
       "      <td>80</td>\n",
       "      <td>389</td>\n",
       "    </tr>\n",
       "    <tr>\n",
       "      <th>23</th>\n",
       "      <td>Annihilus</td>\n",
       "      <td>bad</td>\n",
       "      <td>75</td>\n",
       "      <td>80</td>\n",
       "      <td>47</td>\n",
       "      <td>56</td>\n",
       "      <td>59</td>\n",
       "      <td>64</td>\n",
       "      <td>381</td>\n",
       "    </tr>\n",
       "    <tr>\n",
       "      <th>24</th>\n",
       "      <td>Ant-Man</td>\n",
       "      <td>good</td>\n",
       "      <td>100</td>\n",
       "      <td>10</td>\n",
       "      <td>23</td>\n",
       "      <td>28</td>\n",
       "      <td>32</td>\n",
       "      <td>32</td>\n",
       "      <td>225</td>\n",
       "    </tr>\n",
       "  </tbody>\n",
       "</table>\n",
       "</div>"
      ],
      "text/plain": [
       "                 Name Alignment  Intelligence  Strength  Speed  Durability  \\\n",
       "0             3-D Man      good            50        31     43          32   \n",
       "1              A-Bomb      good            38       100     17          80   \n",
       "2          Abe Sapien      good            88        14     35          42   \n",
       "3            Abin Sur      good            50        90     53          64   \n",
       "4         Abomination       bad            63        80     53          90   \n",
       "5             Abraxas       bad            88       100     83          99   \n",
       "6         Adam Monroe      good            63        10     12         100   \n",
       "7        Adam Strange      good             1         1      1           1   \n",
       "8           Agent  13      good             1         1      1           1   \n",
       "9           Agent Bob      good            10         8     13           5   \n",
       "10         Agent Zero      good            75        28     38          80   \n",
       "11         Air-Walker       bad            50        85    100          85   \n",
       "12         Alan Scott      good            63        80     23          90   \n",
       "13       Alex Woolsly      good             1         1      1           1   \n",
       "14  Alfred Pennyworth      good            63        10     17          10   \n",
       "15   Allan Quatermain      good             1         1      1           1   \n",
       "16              Amazo       bad            75       100    100         100   \n",
       "17               Ammo       bad             1         1      1           1   \n",
       "18     Ando Masahashi      good             1         1      1           1   \n",
       "19              Angel      good            63        13     46          64   \n",
       "20    Angel Salvadore      good            38        10     28          28   \n",
       "21             Angela       bad             1         1      1           1   \n",
       "22         Animal Man      good            56        48     47          85   \n",
       "23          Annihilus       bad            75        80     47          56   \n",
       "24            Ant-Man      good           100        10     23          28   \n",
       "\n",
       "    Power  Combat  Total  \n",
       "0      25      52    233  \n",
       "1      17      64    316  \n",
       "2      35      85    299  \n",
       "3      84      65    406  \n",
       "4      55      95    436  \n",
       "5     100      56    526  \n",
       "6      71      64    320  \n",
       "7       0       1      5  \n",
       "8       0       1      5  \n",
       "9       5      20     61  \n",
       "10     72      95    388  \n",
       "11    100      40    460  \n",
       "12     98      32    386  \n",
       "13      0       1      5  \n",
       "14      7      55    162  \n",
       "15      0       1      5  \n",
       "16    100     100    575  \n",
       "17      0       1      5  \n",
       "18      0       1      5  \n",
       "19     17      42    245  \n",
       "20     46      60    210  \n",
       "21      0       1      5  \n",
       "22     73      80    389  \n",
       "23     59      64    381  \n",
       "24     32      32    225  "
      ]
     },
     "execution_count": 3,
     "metadata": {},
     "output_type": "execute_result"
    }
   ],
   "source": [
    "data.head(25)"
   ]
  },
  {
   "cell_type": "code",
   "execution_count": 4,
   "metadata": {},
   "outputs": [
    {
     "name": "stdout",
     "output_type": "stream",
     "text": [
      "<class 'pandas.core.frame.DataFrame'>\n",
      "RangeIndex: 611 entries, 0 to 610\n",
      "Data columns (total 9 columns):\n",
      "Name            611 non-null object\n",
      "Alignment       608 non-null object\n",
      "Intelligence    611 non-null int64\n",
      "Strength        611 non-null int64\n",
      "Speed           611 non-null int64\n",
      "Durability      611 non-null int64\n",
      "Power           611 non-null int64\n",
      "Combat          611 non-null int64\n",
      "Total           611 non-null int64\n",
      "dtypes: int64(7), object(2)\n",
      "memory usage: 43.0+ KB\n"
     ]
    }
   ],
   "source": [
    "data.info()"
   ]
  },
  {
   "cell_type": "markdown",
   "metadata": {},
   "source": [
    "Looks like there are two scales being used for the data, binary and base 100. For the data that was entered using the a binary scale for the skill measure, the highest possible total is 6 so that threshold is used to split the dataset"
   ]
  },
  {
   "cell_type": "code",
   "execution_count": 5,
   "metadata": {},
   "outputs": [],
   "source": [
    "data_s100 = data[data['Total']>6]\n",
    "data_binary = data[data['Total']<7]"
   ]
  },
  {
   "cell_type": "code",
   "execution_count": 6,
   "metadata": {},
   "outputs": [
    {
     "name": "stdout",
     "output_type": "stream",
     "text": [
      "<class 'pandas.core.frame.DataFrame'>\n",
      "Int64Index: 434 entries, 0 to 610\n",
      "Data columns (total 9 columns):\n",
      "Name            434 non-null object\n",
      "Alignment       432 non-null object\n",
      "Intelligence    434 non-null int64\n",
      "Strength        434 non-null int64\n",
      "Speed           434 non-null int64\n",
      "Durability      434 non-null int64\n",
      "Power           434 non-null int64\n",
      "Combat          434 non-null int64\n",
      "Total           434 non-null int64\n",
      "dtypes: int64(7), object(2)\n",
      "memory usage: 33.9+ KB\n"
     ]
    }
   ],
   "source": [
    "data_s100.info()"
   ]
  },
  {
   "cell_type": "code",
   "execution_count": 7,
   "metadata": {},
   "outputs": [
    {
     "name": "stdout",
     "output_type": "stream",
     "text": [
      "<class 'pandas.core.frame.DataFrame'>\n",
      "Int64Index: 177 entries, 7 to 605\n",
      "Data columns (total 9 columns):\n",
      "Name            177 non-null object\n",
      "Alignment       176 non-null object\n",
      "Intelligence    177 non-null int64\n",
      "Strength        177 non-null int64\n",
      "Speed           177 non-null int64\n",
      "Durability      177 non-null int64\n",
      "Power           177 non-null int64\n",
      "Combat          177 non-null int64\n",
      "Total           177 non-null int64\n",
      "dtypes: int64(7), object(2)\n",
      "memory usage: 13.8+ KB\n"
     ]
    }
   ],
   "source": [
    "data_binary.info()"
   ]
  },
  {
   "cell_type": "markdown",
   "metadata": {},
   "source": [
    "The dataset is split 434 to 177 with the majority being in the 100 scale dataset"
   ]
  },
  {
   "cell_type": "markdown",
   "metadata": {},
   "source": [
    "#### After looking at the data, I raise the question who's smarter good or evil?"
   ]
  },
  {
   "cell_type": "markdown",
   "metadata": {},
   "source": [
    "My hypothesis is that the good guys are smarter.\n",
    "\n",
    "Therefore my null hypothesis is that the evil characters are smarter."
   ]
  },
  {
   "cell_type": "markdown",
   "metadata": {},
   "source": [
    "To look at this I would first have to break down the datasets by the Alignment category"
   ]
  },
  {
   "cell_type": "code",
   "execution_count": 8,
   "metadata": {},
   "outputs": [
    {
     "data": {
      "text/plain": [
       "good       299\n",
       "bad        122\n",
       "neutral     11\n",
       "Name: Alignment, dtype: int64"
      ]
     },
     "execution_count": 8,
     "metadata": {},
     "output_type": "execute_result"
    }
   ],
   "source": [
    "data_s100.Alignment.value_counts()"
   ]
  },
  {
   "cell_type": "code",
   "execution_count": 9,
   "metadata": {},
   "outputs": [
    {
     "data": {
      "text/plain": [
       "good    133\n",
       "bad      43\n",
       "Name: Alignment, dtype: int64"
      ]
     },
     "execution_count": 9,
     "metadata": {},
     "output_type": "execute_result"
    }
   ],
   "source": [
    "data_binary.Alignment.value_counts()"
   ]
  },
  {
   "cell_type": "markdown",
   "metadata": {},
   "source": [
    "#### The next question is what defines \"Smart\""
   ]
  },
  {
   "cell_type": "code",
   "execution_count": 10,
   "metadata": {},
   "outputs": [
    {
     "data": {
      "text/plain": [
       "good       44\n",
       "bad        41\n",
       "neutral     1\n",
       "Name: Alignment, dtype: int64"
      ]
     },
     "execution_count": 10,
     "metadata": {},
     "output_type": "execute_result"
    }
   ],
   "source": [
    "# 1) Using a cutoff value of intelligence, with a simple count. \n",
    "#    Only the characters with stats on the 100 scale will be used\n",
    "\n",
    "# 80 intelligence cutoff\n",
    "\n",
    "c80_data = data_s100[data_s100['Intelligence']>=80]\n",
    "\n",
    "c80_data.Alignment.value_counts()"
   ]
  },
  {
   "cell_type": "markdown",
   "metadata": {},
   "source": [
    "Based on this cutoff it seems the good guys are smarter 44 to 41"
   ]
  },
  {
   "cell_type": "code",
   "execution_count": 19,
   "metadata": {},
   "outputs": [
    {
     "data": {
      "text/plain": [
       "good       16\n",
       "bad        14\n",
       "neutral     1\n",
       "Name: Alignment, dtype: int64"
      ]
     },
     "execution_count": 19,
     "metadata": {},
     "output_type": "execute_result"
    }
   ],
   "source": [
    "# what about a 90 intelligence cutoff?\n",
    "\n",
    "c90_data = data_s100[data_s100['Intelligence']>=90]\n",
    "\n",
    "c90_data.Alignment.value_counts()"
   ]
  },
  {
   "cell_type": "markdown",
   "metadata": {},
   "source": [
    "Looks like the good guys still have it 16 to 14"
   ]
  },
  {
   "cell_type": "code",
   "execution_count": 11,
   "metadata": {},
   "outputs": [
    {
     "data": {
      "text/plain": [
       "good       15\n",
       "bad        12\n",
       "neutral     1\n",
       "Name: Alignment, dtype: int64"
      ]
     },
     "execution_count": 11,
     "metadata": {},
     "output_type": "execute_result"
    }
   ],
   "source": [
    "# what about the smartest of all, those with a 100 intelligence level?\n",
    "\n",
    "c100_data = data_s100[data_s100['Intelligence']>=100]\n",
    "\n",
    "c100_data.Alignment.value_counts()"
   ]
  },
  {
   "cell_type": "markdown",
   "metadata": {},
   "source": [
    "And the good guys still have it 15 to 12.  \n",
    "\n",
    "So using a cutoff levels based on an intelligence score of 80, 90, 100 all support the hypothesis that good guys are smarter\n",
    "\n",
    "But this doesn't really leave us with an inscrutable answer, especially since we are now unclear on whether beings with 100 level intelligence are all the same level of intelligence or not.\n",
    "\n",
    "Also the dataset contains more good guys than bad guys so it would makes senses that based on count level the good guys would likely outnumber the bad."
   ]
  },
  {
   "cell_type": "code",
   "execution_count": 13,
   "metadata": {},
   "outputs": [],
   "source": [
    "# 2) what if the average intelligence of all good guys vs. all bad guys was the measure?\n",
    "# still using the 100 scale dataset\n",
    "\n",
    "bad = data_s100[data_s100['Alignment']=='bad']\n",
    "good = data_s100[data_s100['Alignment']=='good']\n"
   ]
  },
  {
   "cell_type": "code",
   "execution_count": 14,
   "metadata": {},
   "outputs": [
    {
     "name": "stdout",
     "output_type": "stream",
     "text": [
      "67.29508196721312\n",
      "60.23076923076923\n"
     ]
    }
   ],
   "source": [
    "print(bad.Intelligence.mean())\n",
    "print(good.Intelligence.mean())"
   ]
  },
  {
   "cell_type": "markdown",
   "metadata": {},
   "source": [
    "Based on this method of measure the hypothesis is refuted"
   ]
  },
  {
   "cell_type": "markdown",
   "metadata": {},
   "source": [
    "####  T - Test"
   ]
  },
  {
   "cell_type": "markdown",
   "metadata": {},
   "source": [
    "Use a t-test to test null hypothesis at a .05 P-value"
   ]
  },
  {
   "cell_type": "code",
   "execution_count": 18,
   "metadata": {
    "scrolled": true
   },
   "outputs": [
    {
     "data": {
      "text/plain": [
       "Ttest_indResult(statistic=-3.1584658499782137, pvalue=0.0017008432719925284)"
      ]
     },
     "execution_count": 18,
     "metadata": {},
     "output_type": "execute_result"
    }
   ],
   "source": [
    "stats.ttest_ind(good.Intelligence, bad.Intelligence)"
   ]
  },
  {
   "cell_type": "markdown",
   "metadata": {},
   "source": [
    "The results reject the null hypothesis, supporting the claim that the heros are smarter"
   ]
  },
  {
   "cell_type": "markdown",
   "metadata": {},
   "source": [
    "#### Further Data"
   ]
  },
  {
   "cell_type": "markdown",
   "metadata": {},
   "source": [
    "Possible further data would be an IQ test of every character. Hopefully yielding some varition for those with 100 level intelligence ratings. Since there are 28 characters with a 100 level intelligence it would be nice to get some differentiation between there characters."
   ]
  },
  {
   "cell_type": "code",
   "execution_count": null,
   "metadata": {},
   "outputs": [],
   "source": []
  }
 ],
 "metadata": {
  "kernelspec": {
   "display_name": "Python 3",
   "language": "python",
   "name": "python3"
  },
  "language_info": {
   "codemirror_mode": {
    "name": "ipython",
    "version": 3
   },
   "file_extension": ".py",
   "mimetype": "text/x-python",
   "name": "python",
   "nbconvert_exporter": "python",
   "pygments_lexer": "ipython3",
   "version": "3.6.3"
  }
 },
 "nbformat": 4,
 "nbformat_minor": 2
}
